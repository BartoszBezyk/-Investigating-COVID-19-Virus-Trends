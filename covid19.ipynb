{
  "cells": [
    {
      "cell_type": "markdown",
      "source": [],
      "metadata": {
        "id": "pqOmrE6aDa1n"
      }
    },
    {
      "cell_type": "markdown",
      "source": [
        "# Introduction"
      ],
      "metadata": {
        "id": "E_OPt1k5OQbT"
      }
    },
    {
      "cell_type": "markdown",
      "source": [
        "A pneumonia of unknown cause detected in Wuhan, China was first internationally reported from China on 31 December 2019. Today we know this virus as Coronavirus. COVID-19, which stands for COronaVIrus Disease, is the disease caused by this virus. Since then, the world has been engaged in the fight against this pandemic. Several measures have therefore been taken to \"flatten the curve\". We have consequently experienced social distancing, and unfortunately, many lives have been lost.\n",
        "\n",
        "In the solidarity to face this unprecedented global crisis, several organizations did not hesitate to share several datasets allowing the conduction of various kinds of analysis in order to understand this pandemic."
      ],
      "metadata": {
        "id": "h6eBesSgOQYY"
      }
    },
    {
      "cell_type": "markdown",
      "source": [
        "# Objective"
      ],
      "metadata": {
        "id": "Gk5aZ2IMOQVq"
      }
    },
    {
      "cell_type": "markdown",
      "source": [
        "The objective of this analysis is to identify the countries with the highest number of positive cases in relation to the number of tests conducted."
      ],
      "metadata": {
        "id": "wPoHWu69OQS9"
      }
    },
    {
      "cell_type": "markdown",
      "source": [],
      "metadata": {
        "id": "bxnc_cGlO7Ps"
      }
    },
    {
      "cell_type": "markdown",
      "source": [
        "# Data"
      ],
      "metadata": {
        "id": "lxSIC4dIDBGB"
      }
    },
    {
      "cell_type": "markdown",
      "source": [
        "You can find the data [here](https://dq-content.s3.amazonaws.com/505/covid19.csv)."
      ],
      "metadata": {
        "id": "mqCk2E3SDC8g"
      }
    },
    {
      "cell_type": "markdown",
      "source": [
        "# Data Exploration"
      ],
      "metadata": {
        "id": "OVBlfwFWO62-"
      }
    },
    {
      "cell_type": "code",
      "source": [
        "install.packages('readr')"
      ],
      "metadata": {
        "colab": {
          "base_uri": "https://localhost:8080/"
        },
        "id": "vqZLznfxPARa",
        "outputId": "3c413095-b39d-4852-bd2a-487bf17c65a6"
      },
      "execution_count": null,
      "outputs": [
        {
          "output_type": "stream",
          "name": "stderr",
          "text": [
            "Installing package into ‘/usr/local/lib/R/site-library’\n",
            "(as ‘lib’ is unspecified)\n",
            "\n"
          ]
        }
      ]
    },
    {
      "cell_type": "code",
      "source": [
        "library(readr)\n",
        "covid_data <- read.csv(\"covid19.csv\")\n"
      ],
      "metadata": {
        "id": "E2s6qT9VOPpV"
      },
      "execution_count": null,
      "outputs": []
    },
    {
      "cell_type": "markdown",
      "source": [
        "To understand the data, we begin by observing its dimensions, structure, and column names, as well as obtaining a general summary of the data."
      ],
      "metadata": {
        "id": "QwNVnDghPHOz"
      }
    },
    {
      "cell_type": "code",
      "source": [
        "#get the dimension of the data\n",
        "dimensions <- dim(covid_data)\n",
        "dimensions\n"
      ],
      "metadata": {
        "colab": {
          "base_uri": "https://localhost:8080/",
          "height": 34
        },
        "id": "WOQNHhaVPDxC",
        "outputId": "3999e267-705a-4daa-d60e-6e96452cbc86"
      },
      "execution_count": null,
      "outputs": [
        {
          "output_type": "display_data",
          "data": {
            "text/plain": [
              "NULL"
            ]
          },
          "metadata": {}
        }
      ]
    },
    {
      "cell_type": "code",
      "source": [
        "#check out the column names of the data\n",
        "column_names <- colnames(covid_data)\n",
        "column_names\n"
      ],
      "metadata": {
        "colab": {
          "base_uri": "https://localhost:8080/",
          "height": 52
        },
        "id": "6fOhBCQfPLpC",
        "outputId": "0d5d15f4-4909-456c-919c-a0ed1d5b2b88"
      },
      "execution_count": null,
      "outputs": [
        {
          "output_type": "display_data",
          "data": {
            "text/html": [
              "<style>\n",
              ".list-inline {list-style: none; margin:0; padding: 0}\n",
              ".list-inline>li {display: inline-block}\n",
              ".list-inline>li:not(:last-child)::after {content: \"\\00b7\"; padding: 0 .5ex}\n",
              "</style>\n",
              "<ol class=list-inline><li>'Date'</li><li>'Continent_Name'</li><li>'Two_Letter_Country_Code'</li><li>'Country_Region'</li><li>'Province_State'</li><li>'positive'</li><li>'hospitalized'</li><li>'recovered'</li><li>'death'</li><li>'total_tested'</li><li>'active'</li><li>'hospitalizedCurr'</li><li>'daily_tested'</li><li>'daily_positive'</li></ol>\n"
            ],
            "text/markdown": "1. 'Date'\n2. 'Continent_Name'\n3. 'Two_Letter_Country_Code'\n4. 'Country_Region'\n5. 'Province_State'\n6. 'positive'\n7. 'hospitalized'\n8. 'recovered'\n9. 'death'\n10. 'total_tested'\n11. 'active'\n12. 'hospitalizedCurr'\n13. 'daily_tested'\n14. 'daily_positive'\n\n\n",
            "text/latex": "\\begin{enumerate*}\n\\item 'Date'\n\\item 'Continent\\_Name'\n\\item 'Two\\_Letter\\_Country\\_Code'\n\\item 'Country\\_Region'\n\\item 'Province\\_State'\n\\item 'positive'\n\\item 'hospitalized'\n\\item 'recovered'\n\\item 'death'\n\\item 'total\\_tested'\n\\item 'active'\n\\item 'hospitalizedCurr'\n\\item 'daily\\_tested'\n\\item 'daily\\_positive'\n\\end{enumerate*}\n",
            "text/plain": [
              " [1] \"Date\"                    \"Continent_Name\"         \n",
              " [3] \"Two_Letter_Country_Code\" \"Country_Region\"         \n",
              " [5] \"Province_State\"          \"positive\"               \n",
              " [7] \"hospitalized\"            \"recovered\"              \n",
              " [9] \"death\"                   \"total_tested\"           \n",
              "[11] \"active\"                  \"hospitalizedCurr\"       \n",
              "[13] \"daily_tested\"            \"daily_positive\"         "
            ]
          },
          "metadata": {}
        }
      ]
    },
    {
      "cell_type": "code",
      "source": [
        "#showing the first few rows of the data\n",
        "head_data <- head(covid_data)\n",
        "head_data\n"
      ],
      "metadata": {
        "colab": {
          "base_uri": "https://localhost:8080/",
          "height": 410
        },
        "id": "l_p4eoi1PN1o",
        "outputId": "c134dfcc-fb5f-49e5-dd14-dcfefdaa691d"
      },
      "execution_count": null,
      "outputs": [
        {
          "output_type": "display_data",
          "data": {
            "text/html": [
              "<table class=\"dataframe\">\n",
              "<caption>A data.frame: 6 × 14</caption>\n",
              "<thead>\n",
              "\t<tr><th></th><th scope=col>Date</th><th scope=col>Continent_Name</th><th scope=col>Two_Letter_Country_Code</th><th scope=col>Country_Region</th><th scope=col>Province_State</th><th scope=col>positive</th><th scope=col>hospitalized</th><th scope=col>recovered</th><th scope=col>death</th><th scope=col>total_tested</th><th scope=col>active</th><th scope=col>hospitalizedCurr</th><th scope=col>daily_tested</th><th scope=col>daily_positive</th></tr>\n",
              "\t<tr><th></th><th scope=col>&lt;chr&gt;</th><th scope=col>&lt;chr&gt;</th><th scope=col>&lt;chr&gt;</th><th scope=col>&lt;chr&gt;</th><th scope=col>&lt;chr&gt;</th><th scope=col>&lt;int&gt;</th><th scope=col>&lt;int&gt;</th><th scope=col>&lt;int&gt;</th><th scope=col>&lt;int&gt;</th><th scope=col>&lt;int&gt;</th><th scope=col>&lt;int&gt;</th><th scope=col>&lt;int&gt;</th><th scope=col>&lt;int&gt;</th><th scope=col>&lt;int&gt;</th></tr>\n",
              "</thead>\n",
              "<tbody>\n",
              "\t<tr><th scope=row>1</th><td>2020-01-20</td><td>Asia         </td><td>KR</td><td>South Korea  </td><td>All States</td><td>1</td><td>0</td><td>0</td><td>0</td><td> 4</td><td>0</td><td>0</td><td>0</td><td>0</td></tr>\n",
              "\t<tr><th scope=row>2</th><td>2020-01-22</td><td>North America</td><td>US</td><td>United States</td><td>All States</td><td>1</td><td>0</td><td>0</td><td>0</td><td> 1</td><td>0</td><td>0</td><td>0</td><td>0</td></tr>\n",
              "\t<tr><th scope=row>3</th><td>2020-01-22</td><td>North America</td><td>US</td><td>United States</td><td>Washington</td><td>1</td><td>0</td><td>0</td><td>0</td><td> 1</td><td>0</td><td>0</td><td>0</td><td>0</td></tr>\n",
              "\t<tr><th scope=row>4</th><td>2020-01-23</td><td>North America</td><td>US</td><td>United States</td><td>All States</td><td>1</td><td>0</td><td>0</td><td>0</td><td> 1</td><td>0</td><td>0</td><td>0</td><td>0</td></tr>\n",
              "\t<tr><th scope=row>5</th><td>2020-01-23</td><td>North America</td><td>US</td><td>United States</td><td>Washington</td><td>1</td><td>0</td><td>0</td><td>0</td><td> 1</td><td>0</td><td>0</td><td>0</td><td>0</td></tr>\n",
              "\t<tr><th scope=row>6</th><td>2020-01-24</td><td>Asia         </td><td>KR</td><td>South Korea  </td><td>All States</td><td>2</td><td>0</td><td>0</td><td>0</td><td>27</td><td>0</td><td>0</td><td>5</td><td>0</td></tr>\n",
              "</tbody>\n",
              "</table>\n"
            ],
            "text/markdown": "\nA data.frame: 6 × 14\n\n| <!--/--> | Date &lt;chr&gt; | Continent_Name &lt;chr&gt; | Two_Letter_Country_Code &lt;chr&gt; | Country_Region &lt;chr&gt; | Province_State &lt;chr&gt; | positive &lt;int&gt; | hospitalized &lt;int&gt; | recovered &lt;int&gt; | death &lt;int&gt; | total_tested &lt;int&gt; | active &lt;int&gt; | hospitalizedCurr &lt;int&gt; | daily_tested &lt;int&gt; | daily_positive &lt;int&gt; |\n|---|---|---|---|---|---|---|---|---|---|---|---|---|---|---|\n| 1 | 2020-01-20 | Asia          | KR | South Korea   | All States | 1 | 0 | 0 | 0 |  4 | 0 | 0 | 0 | 0 |\n| 2 | 2020-01-22 | North America | US | United States | All States | 1 | 0 | 0 | 0 |  1 | 0 | 0 | 0 | 0 |\n| 3 | 2020-01-22 | North America | US | United States | Washington | 1 | 0 | 0 | 0 |  1 | 0 | 0 | 0 | 0 |\n| 4 | 2020-01-23 | North America | US | United States | All States | 1 | 0 | 0 | 0 |  1 | 0 | 0 | 0 | 0 |\n| 5 | 2020-01-23 | North America | US | United States | Washington | 1 | 0 | 0 | 0 |  1 | 0 | 0 | 0 | 0 |\n| 6 | 2020-01-24 | Asia          | KR | South Korea   | All States | 2 | 0 | 0 | 0 | 27 | 0 | 0 | 5 | 0 |\n\n",
            "text/latex": "A data.frame: 6 × 14\n\\begin{tabular}{r|llllllllllllll}\n  & Date & Continent\\_Name & Two\\_Letter\\_Country\\_Code & Country\\_Region & Province\\_State & positive & hospitalized & recovered & death & total\\_tested & active & hospitalizedCurr & daily\\_tested & daily\\_positive\\\\\n  & <chr> & <chr> & <chr> & <chr> & <chr> & <int> & <int> & <int> & <int> & <int> & <int> & <int> & <int> & <int>\\\\\n\\hline\n\t1 & 2020-01-20 & Asia          & KR & South Korea   & All States & 1 & 0 & 0 & 0 &  4 & 0 & 0 & 0 & 0\\\\\n\t2 & 2020-01-22 & North America & US & United States & All States & 1 & 0 & 0 & 0 &  1 & 0 & 0 & 0 & 0\\\\\n\t3 & 2020-01-22 & North America & US & United States & Washington & 1 & 0 & 0 & 0 &  1 & 0 & 0 & 0 & 0\\\\\n\t4 & 2020-01-23 & North America & US & United States & All States & 1 & 0 & 0 & 0 &  1 & 0 & 0 & 0 & 0\\\\\n\t5 & 2020-01-23 & North America & US & United States & Washington & 1 & 0 & 0 & 0 &  1 & 0 & 0 & 0 & 0\\\\\n\t6 & 2020-01-24 & Asia          & KR & South Korea   & All States & 2 & 0 & 0 & 0 & 27 & 0 & 0 & 5 & 0\\\\\n\\end{tabular}\n",
            "text/plain": [
              "  Date       Continent_Name Two_Letter_Country_Code Country_Region\n",
              "1 2020-01-20 Asia           KR                      South Korea   \n",
              "2 2020-01-22 North America  US                      United States \n",
              "3 2020-01-22 North America  US                      United States \n",
              "4 2020-01-23 North America  US                      United States \n",
              "5 2020-01-23 North America  US                      United States \n",
              "6 2020-01-24 Asia           KR                      South Korea   \n",
              "  Province_State positive hospitalized recovered death total_tested active\n",
              "1 All States     1        0            0         0      4           0     \n",
              "2 All States     1        0            0         0      1           0     \n",
              "3 Washington     1        0            0         0      1           0     \n",
              "4 All States     1        0            0         0      1           0     \n",
              "5 Washington     1        0            0         0      1           0     \n",
              "6 All States     2        0            0         0     27           0     \n",
              "  hospitalizedCurr daily_tested daily_positive\n",
              "1 0                0            0             \n",
              "2 0                0            0             \n",
              "3 0                0            0             \n",
              "4 0                0            0             \n",
              "5 0                0            0             \n",
              "6 0                5            0             "
            ]
          },
          "metadata": {}
        }
      ]
    },
    {
      "cell_type": "code",
      "source": [
        "#Display summary of the data using glimpse() function\n",
        "library(tibble)\n",
        "\n",
        "glimpse_data <- glimpse(covid_data)\n",
        "glimpse_data\n"
      ],
      "metadata": {
        "colab": {
          "base_uri": "https://localhost:8080/",
          "height": 1000
        },
        "id": "_eXCgar0PPgH",
        "outputId": "f4c53235-5793-4532-de7a-6e86fcce0c63"
      },
      "execution_count": null,
      "outputs": [
        {
          "output_type": "stream",
          "name": "stdout",
          "text": [
            "Rows: 10,903\n",
            "Columns: 14\n",
            "$ Date                    \u001b[3m\u001b[90m<chr>\u001b[39m\u001b[23m \"2020-01-20\", \"2020-01-22\", \"2020-01-22\", \"202…\n",
            "$ Continent_Name          \u001b[3m\u001b[90m<chr>\u001b[39m\u001b[23m \"Asia\", \"North America\", \"North America\", \"Nor…\n",
            "$ Two_Letter_Country_Code \u001b[3m\u001b[90m<chr>\u001b[39m\u001b[23m \"KR\", \"US\", \"US\", \"US\", \"US\", \"KR\", \"US\", \"US\"…\n",
            "$ Country_Region          \u001b[3m\u001b[90m<chr>\u001b[39m\u001b[23m \"South Korea\", \"United States\", \"United States…\n",
            "$ Province_State          \u001b[3m\u001b[90m<chr>\u001b[39m\u001b[23m \"All States\", \"All States\", \"Washington\", \"All…\n",
            "$ positive                \u001b[3m\u001b[90m<int>\u001b[39m\u001b[23m 1, 1, 1, 1, 1, 2, 1, 1, 4, 0, 3, 0, 0, 0, 0, 1…\n",
            "$ hospitalized            \u001b[3m\u001b[90m<int>\u001b[39m\u001b[23m 0, 0, 0, 0, 0, 0, 0, 0, 0, 0, 0, 0, 0, 0, 0, 0…\n",
            "$ recovered               \u001b[3m\u001b[90m<int>\u001b[39m\u001b[23m 0, 0, 0, 0, 0, 0, 0, 0, 0, 0, 0, 0, 0, 0, 0, 0…\n",
            "$ death                   \u001b[3m\u001b[90m<int>\u001b[39m\u001b[23m 0, 0, 0, 0, 0, 0, 0, 0, 0, 0, 0, 0, 0, 0, 0, 0…\n",
            "$ total_tested            \u001b[3m\u001b[90m<int>\u001b[39m\u001b[23m 4, 1, 1, 1, 1, 27, 1, 1, 0, 0, 0, 0, 0, 0, 0, …\n",
            "$ active                  \u001b[3m\u001b[90m<int>\u001b[39m\u001b[23m 0, 0, 0, 0, 0, 0, 0, 0, 0, 0, 0, 0, 0, 0, 0, 0…\n",
            "$ hospitalizedCurr        \u001b[3m\u001b[90m<int>\u001b[39m\u001b[23m 0, 0, 0, 0, 0, 0, 0, 0, 0, 0, 0, 0, 0, 0, 0, 0…\n",
            "$ daily_tested            \u001b[3m\u001b[90m<int>\u001b[39m\u001b[23m 0, 0, 0, 0, 0, 5, 0, 0, 0, 0, 0, 0, 0, 0, 0, 0…\n",
            "$ daily_positive          \u001b[3m\u001b[90m<int>\u001b[39m\u001b[23m 0, 0, 0, 0, 0, 0, 0, 0, 0, 0, 0, 0, 0, 0, 0, 0…\n"
          ]
        },
        {
          "output_type": "display_data",
          "data": {
            "text/html": [
              "<table class=\"dataframe\">\n",
              "<caption>A data.frame: 10903 × 14</caption>\n",
              "<thead>\n",
              "\t<tr><th scope=col>Date</th><th scope=col>Continent_Name</th><th scope=col>Two_Letter_Country_Code</th><th scope=col>Country_Region</th><th scope=col>Province_State</th><th scope=col>positive</th><th scope=col>hospitalized</th><th scope=col>recovered</th><th scope=col>death</th><th scope=col>total_tested</th><th scope=col>active</th><th scope=col>hospitalizedCurr</th><th scope=col>daily_tested</th><th scope=col>daily_positive</th></tr>\n",
              "\t<tr><th scope=col>&lt;chr&gt;</th><th scope=col>&lt;chr&gt;</th><th scope=col>&lt;chr&gt;</th><th scope=col>&lt;chr&gt;</th><th scope=col>&lt;chr&gt;</th><th scope=col>&lt;int&gt;</th><th scope=col>&lt;int&gt;</th><th scope=col>&lt;int&gt;</th><th scope=col>&lt;int&gt;</th><th scope=col>&lt;int&gt;</th><th scope=col>&lt;int&gt;</th><th scope=col>&lt;int&gt;</th><th scope=col>&lt;int&gt;</th><th scope=col>&lt;int&gt;</th></tr>\n",
              "</thead>\n",
              "<tbody>\n",
              "\t<tr><td>2020-01-20</td><td>Asia         </td><td>KR</td><td>South Korea   </td><td>All States                  </td><td>1</td><td>0</td><td>0</td><td>0</td><td> 4</td><td>0</td><td>0</td><td>0</td><td>0</td></tr>\n",
              "\t<tr><td>2020-01-22</td><td>North America</td><td>US</td><td>United States </td><td>All States                  </td><td>1</td><td>0</td><td>0</td><td>0</td><td> 1</td><td>0</td><td>0</td><td>0</td><td>0</td></tr>\n",
              "\t<tr><td>2020-01-22</td><td>North America</td><td>US</td><td>United States </td><td>Washington                  </td><td>1</td><td>0</td><td>0</td><td>0</td><td> 1</td><td>0</td><td>0</td><td>0</td><td>0</td></tr>\n",
              "\t<tr><td>2020-01-23</td><td>North America</td><td>US</td><td>United States </td><td>All States                  </td><td>1</td><td>0</td><td>0</td><td>0</td><td> 1</td><td>0</td><td>0</td><td>0</td><td>0</td></tr>\n",
              "\t<tr><td>2020-01-23</td><td>North America</td><td>US</td><td>United States </td><td>Washington                  </td><td>1</td><td>0</td><td>0</td><td>0</td><td> 1</td><td>0</td><td>0</td><td>0</td><td>0</td></tr>\n",
              "\t<tr><td>2020-01-24</td><td>Asia         </td><td>KR</td><td>South Korea   </td><td>All States                  </td><td>2</td><td>0</td><td>0</td><td>0</td><td>27</td><td>0</td><td>0</td><td>5</td><td>0</td></tr>\n",
              "\t<tr><td>2020-01-24</td><td>North America</td><td>US</td><td>United States </td><td>All States                  </td><td>1</td><td>0</td><td>0</td><td>0</td><td> 1</td><td>0</td><td>0</td><td>0</td><td>0</td></tr>\n",
              "\t<tr><td>2020-01-24</td><td>North America</td><td>US</td><td>United States </td><td>Washington                  </td><td>1</td><td>0</td><td>0</td><td>0</td><td> 1</td><td>0</td><td>0</td><td>0</td><td>0</td></tr>\n",
              "\t<tr><td>2020-01-25</td><td>Oceania      </td><td>AU</td><td>Australia     </td><td>All States                  </td><td>4</td><td>0</td><td>0</td><td>0</td><td> 0</td><td>0</td><td>0</td><td>0</td><td>0</td></tr>\n",
              "\t<tr><td>2020-01-25</td><td>Oceania      </td><td>AU</td><td>Australia     </td><td>Australian Capital Territory</td><td>0</td><td>0</td><td>0</td><td>0</td><td> 0</td><td>0</td><td>0</td><td>0</td><td>0</td></tr>\n",
              "\t<tr><td>2020-01-25</td><td>Oceania      </td><td>AU</td><td>Australia     </td><td>New South Wales             </td><td>3</td><td>0</td><td>0</td><td>0</td><td> 0</td><td>0</td><td>0</td><td>0</td><td>0</td></tr>\n",
              "\t<tr><td>2020-01-25</td><td>Oceania      </td><td>AU</td><td>Australia     </td><td>Northern Territory          </td><td>0</td><td>0</td><td>0</td><td>0</td><td> 0</td><td>0</td><td>0</td><td>0</td><td>0</td></tr>\n",
              "\t<tr><td>2020-01-25</td><td>Oceania      </td><td>AU</td><td>Australia     </td><td>Queensland                  </td><td>0</td><td>0</td><td>0</td><td>0</td><td> 0</td><td>0</td><td>0</td><td>0</td><td>0</td></tr>\n",
              "\t<tr><td>2020-01-25</td><td>Oceania      </td><td>AU</td><td>Australia     </td><td>South Australia             </td><td>0</td><td>0</td><td>0</td><td>0</td><td> 0</td><td>0</td><td>0</td><td>0</td><td>0</td></tr>\n",
              "\t<tr><td>2020-01-25</td><td>Oceania      </td><td>AU</td><td>Australia     </td><td>Tasmania                    </td><td>0</td><td>0</td><td>0</td><td>0</td><td> 0</td><td>0</td><td>0</td><td>0</td><td>0</td></tr>\n",
              "\t<tr><td>2020-01-25</td><td>Oceania      </td><td>AU</td><td>Australia     </td><td>Victoria                    </td><td>1</td><td>0</td><td>0</td><td>0</td><td> 0</td><td>0</td><td>0</td><td>0</td><td>0</td></tr>\n",
              "\t<tr><td>2020-01-25</td><td>Oceania      </td><td>AU</td><td>Australia     </td><td>Western Australia           </td><td>0</td><td>0</td><td>0</td><td>0</td><td> 0</td><td>0</td><td>0</td><td>0</td><td>0</td></tr>\n",
              "\t<tr><td>2020-01-25</td><td>Europe       </td><td>GB</td><td>United Kingdom</td><td>All States                  </td><td>1</td><td>0</td><td>0</td><td>0</td><td>31</td><td>0</td><td>0</td><td>0</td><td>0</td></tr>\n",
              "\t<tr><td>2020-01-25</td><td>North America</td><td>US</td><td>United States </td><td>All States                  </td><td>1</td><td>0</td><td>0</td><td>0</td><td> 1</td><td>0</td><td>0</td><td>0</td><td>0</td></tr>\n",
              "\t<tr><td>2020-01-25</td><td>North America</td><td>US</td><td>United States </td><td>Washington                  </td><td>1</td><td>0</td><td>0</td><td>0</td><td> 1</td><td>0</td><td>0</td><td>0</td><td>0</td></tr>\n",
              "\t<tr><td>2020-01-26</td><td>Oceania      </td><td>AU</td><td>Australia     </td><td>All States                  </td><td>4</td><td>0</td><td>0</td><td>0</td><td> 0</td><td>0</td><td>0</td><td>0</td><td>0</td></tr>\n",
              "\t<tr><td>2020-01-26</td><td>Oceania      </td><td>AU</td><td>Australia     </td><td>Australian Capital Territory</td><td>0</td><td>0</td><td>0</td><td>0</td><td> 0</td><td>0</td><td>0</td><td>0</td><td>0</td></tr>\n",
              "\t<tr><td>2020-01-26</td><td>Oceania      </td><td>AU</td><td>Australia     </td><td>New South Wales             </td><td>3</td><td>0</td><td>0</td><td>0</td><td> 0</td><td>0</td><td>0</td><td>0</td><td>0</td></tr>\n",
              "\t<tr><td>2020-01-26</td><td>Oceania      </td><td>AU</td><td>Australia     </td><td>Northern Territory          </td><td>0</td><td>0</td><td>0</td><td>0</td><td> 0</td><td>0</td><td>0</td><td>0</td><td>0</td></tr>\n",
              "\t<tr><td>2020-01-26</td><td>Oceania      </td><td>AU</td><td>Australia     </td><td>Queensland                  </td><td>0</td><td>0</td><td>0</td><td>0</td><td> 0</td><td>0</td><td>0</td><td>0</td><td>0</td></tr>\n",
              "\t<tr><td>2020-01-26</td><td>Oceania      </td><td>AU</td><td>Australia     </td><td>South Australia             </td><td>0</td><td>0</td><td>0</td><td>0</td><td> 0</td><td>0</td><td>0</td><td>0</td><td>0</td></tr>\n",
              "\t<tr><td>2020-01-26</td><td>Oceania      </td><td>AU</td><td>Australia     </td><td>Tasmania                    </td><td>0</td><td>0</td><td>0</td><td>0</td><td> 0</td><td>0</td><td>0</td><td>0</td><td>0</td></tr>\n",
              "\t<tr><td>2020-01-26</td><td>Oceania      </td><td>AU</td><td>Australia     </td><td>Victoria                    </td><td>1</td><td>0</td><td>0</td><td>0</td><td> 0</td><td>0</td><td>0</td><td>0</td><td>0</td></tr>\n",
              "\t<tr><td>2020-01-26</td><td>Oceania      </td><td>AU</td><td>Australia     </td><td>Western Australia           </td><td>0</td><td>0</td><td>0</td><td>0</td><td> 0</td><td>0</td><td>0</td><td>0</td><td>0</td></tr>\n",
              "\t<tr><td>2020-01-26</td><td>Asia         </td><td>IL</td><td>Israel        </td><td>All States                  </td><td>0</td><td>0</td><td>0</td><td>0</td><td> 3</td><td>0</td><td>0</td><td>0</td><td>0</td></tr>\n",
              "\t<tr><td>⋮</td><td>⋮</td><td>⋮</td><td>⋮</td><td>⋮</td><td>⋮</td><td>⋮</td><td>⋮</td><td>⋮</td><td>⋮</td><td>⋮</td><td>⋮</td><td>⋮</td><td>⋮</td></tr>\n",
              "\t<tr><td>2020-05-31</td><td>North America</td><td>US</td><td>United States         </td><td>South Carolina              </td><td>11861</td><td>1634</td><td> 6459</td><td> 494</td><td> 200216</td><td> 4908</td><td> 402</td><td> 10697</td><td> 467</td></tr>\n",
              "\t<tr><td>2020-05-31</td><td>North America</td><td>US</td><td>United States         </td><td>South Dakota                </td><td> 4993</td><td> 432</td><td> 3837</td><td>  62</td><td>  44128</td><td> 1094</td><td>  86</td><td>  1190</td><td>  33</td></tr>\n",
              "\t<tr><td>2020-05-31</td><td>North America</td><td>US</td><td>United States         </td><td>Tennessee                   </td><td>23006</td><td>1750</td><td>15300</td><td> 364</td><td> 435977</td><td> 7342</td><td>   0</td><td>  8931</td><td> 440</td></tr>\n",
              "\t<tr><td>2020-05-31</td><td>North America</td><td>US</td><td>United States         </td><td>Texas                       </td><td>64287</td><td>   0</td><td>42423</td><td>1672</td><td> 951865</td><td>20192</td><td>1684</td><td> 58590</td><td>3281</td></tr>\n",
              "\t<tr><td>2020-05-31</td><td>North America</td><td>US</td><td>United States         </td><td>Utah                        </td><td> 9797</td><td> 775</td><td> 6137</td><td> 113</td><td> 213914</td><td> 3547</td><td> 142</td><td>  3809</td><td> 264</td></tr>\n",
              "\t<tr><td>2020-05-31</td><td>North America</td><td>US</td><td>United States         </td><td>Vermont                     </td><td>  981</td><td>   0</td><td>  873</td><td>  55</td><td>  33970</td><td>   53</td><td>  18</td><td>  1303</td><td>   4</td></tr>\n",
              "\t<tr><td>2020-05-31</td><td>North America</td><td>US</td><td>United States         </td><td>Virgin Islands              </td><td>   69</td><td>   0</td><td>   61</td><td>   6</td><td>   1702</td><td>    2</td><td>   0</td><td>     0</td><td>   0</td></tr>\n",
              "\t<tr><td>2020-05-31</td><td>North America</td><td>US</td><td>United States         </td><td>Virginia                    </td><td>44607</td><td>7326</td><td> 5868</td><td>1375</td><td> 315391</td><td>37364</td><td>1458</td><td>  9879</td><td> 996</td></tr>\n",
              "\t<tr><td>2020-05-31</td><td>North America</td><td>US</td><td>United States         </td><td>Washington                  </td><td>21349</td><td>3480</td><td>    0</td><td>1118</td><td> 354354</td><td>    0</td><td> 266</td><td>  6121</td><td> 278</td></tr>\n",
              "\t<tr><td>2020-05-31</td><td>North America</td><td>US</td><td>United States         </td><td>West Virginia               </td><td> 2010</td><td>   0</td><td> 1303</td><td>  75</td><td>  97622</td><td>  632</td><td>  33</td><td>  1732</td><td>  36</td></tr>\n",
              "\t<tr><td>2020-05-31</td><td>North America</td><td>US</td><td>United States         </td><td>Wisconsin                   </td><td>18403</td><td>2583</td><td>11646</td><td> 592</td><td> 268506</td><td> 6165</td><td> 625</td><td>  7368</td><td> 173</td></tr>\n",
              "\t<tr><td>2020-05-31</td><td>North America</td><td>US</td><td>United States         </td><td>Wyoming                     </td><td>  903</td><td>  85</td><td>  658</td><td>  16</td><td>  24393</td><td>  229</td><td>  13</td><td>   310</td><td>   5</td></tr>\n",
              "\t<tr><td>2020-06-01</td><td>Oceania      </td><td>AU</td><td>Australia             </td><td>All States                  </td><td> 7204</td><td>   0</td><td> 6619</td><td> 102</td><td>1476416</td><td>  483</td><td>  21</td><td> 17824</td><td>   9</td></tr>\n",
              "\t<tr><td>2020-06-01</td><td>Oceania      </td><td>AU</td><td>Australia             </td><td>Australian Capital Territory</td><td>  107</td><td>   0</td><td>  104</td><td>   3</td><td>  18425</td><td>    0</td><td>   0</td><td>   311</td><td>   0</td></tr>\n",
              "\t<tr><td>2020-06-01</td><td>Oceania      </td><td>AU</td><td>Australia             </td><td>New South Wales             </td><td> 3098</td><td>   0</td><td> 2685</td><td>  48</td><td> 509227</td><td>  365</td><td>  10</td><td>  5763</td><td>   3</td></tr>\n",
              "\t<tr><td>2020-06-01</td><td>Oceania      </td><td>AU</td><td>Australia             </td><td>Northern Territory          </td><td>   29</td><td>   0</td><td>   29</td><td>   0</td><td>   8240</td><td>    0</td><td>   0</td><td>    20</td><td>   0</td></tr>\n",
              "\t<tr><td>2020-06-01</td><td>Oceania      </td><td>AU</td><td>Australia             </td><td>Queensland                  </td><td> 1058</td><td>   0</td><td> 1046</td><td>   6</td><td> 197367</td><td>    6</td><td>   2</td><td>  1930</td><td>   0</td></tr>\n",
              "\t<tr><td>2020-06-01</td><td>Oceania      </td><td>AU</td><td>Australia             </td><td>South Australia             </td><td>  440</td><td>   0</td><td>  435</td><td>   4</td><td> 101944</td><td>    1</td><td>   0</td><td>  1104</td><td>   0</td></tr>\n",
              "\t<tr><td>2020-06-01</td><td>Oceania      </td><td>AU</td><td>Australia             </td><td>Tasmania                    </td><td>  228</td><td>   0</td><td>  207</td><td>  13</td><td>  31671</td><td>    8</td><td>   2</td><td>   375</td><td>   0</td></tr>\n",
              "\t<tr><td>2020-06-01</td><td>Oceania      </td><td>AU</td><td>Australia             </td><td>Victoria                    </td><td> 1653</td><td>   0</td><td> 1560</td><td>  19</td><td> 515541</td><td>   74</td><td>   6</td><td>  5850</td><td>   4</td></tr>\n",
              "\t<tr><td>2020-06-01</td><td>Oceania      </td><td>AU</td><td>Australia             </td><td>Western Australia           </td><td>  591</td><td>   0</td><td>  553</td><td>   9</td><td>  94001</td><td>   29</td><td>   1</td><td>  2471</td><td>   2</td></tr>\n",
              "\t<tr><td>2020-06-01</td><td>Europe       </td><td>AT</td><td>Austria               </td><td>All States                  </td><td>    0</td><td>   0</td><td>    0</td><td>   0</td><td> 451820</td><td>    0</td><td>   0</td><td>  3286</td><td>   0</td></tr>\n",
              "\t<tr><td>2020-06-01</td><td>Asia         </td><td>BD</td><td>Bangladesh            </td><td>All States                  </td><td>49534</td><td>   0</td><td>10597</td><td> 672</td><td> 320969</td><td>38265</td><td>   0</td><td> 12039</td><td>2381</td></tr>\n",
              "\t<tr><td>2020-06-01</td><td>Europe       </td><td>BA</td><td>Bosnia and Herzegovina</td><td>All States                  </td><td>    0</td><td>   0</td><td>    0</td><td>   0</td><td>  65900</td><td>    0</td><td>   0</td><td>   680</td><td>   0</td></tr>\n",
              "\t<tr><td>2020-06-01</td><td>Asia         </td><td>IN</td><td>India                 </td><td>All States                  </td><td>    0</td><td>   0</td><td>    0</td><td>   0</td><td>3837207</td><td>    0</td><td>   0</td><td>100180</td><td>   0</td></tr>\n",
              "\t<tr><td>2020-06-01</td><td>Asia         </td><td>ID</td><td>Indonesia             </td><td>All States                  </td><td>    0</td><td>   0</td><td>    0</td><td>   0</td><td> 223624</td><td>    0</td><td>   0</td><td>  5887</td><td>   0</td></tr>\n",
              "\t<tr><td>2020-06-01</td><td>Europe       </td><td>PL</td><td>Poland                </td><td>All States                  </td><td>23987</td><td>   0</td><td>11449</td><td>1065</td><td> 931520</td><td>11473</td><td>   0</td><td> 15974</td><td> 201</td></tr>\n",
              "\t<tr><td>2020-06-01</td><td>Europe       </td><td>RS</td><td>Serbia                </td><td>All States                  </td><td>11430</td><td>   0</td><td> 6726</td><td> 244</td><td> 247760</td><td> 4460</td><td> 468</td><td>  2315</td><td>  18</td></tr>\n",
              "\t<tr><td>2020-06-01</td><td>Asia         </td><td>TW</td><td>Taiwan                </td><td>All States                  </td><td>    0</td><td>   0</td><td>    0</td><td>   0</td><td>  72319</td><td>    0</td><td>   0</td><td>   237</td><td>   0</td></tr>\n",
              "\t<tr><td>2020-06-01</td><td>Asia         </td><td>VN</td><td>Vietnam               </td><td>All States                  </td><td>    0</td><td>   0</td><td>    0</td><td>   0</td><td> 261004</td><td>    0</td><td>   0</td><td>     0</td><td>   0</td></tr>\n",
              "</tbody>\n",
              "</table>\n"
            ],
            "text/markdown": "\nA data.frame: 10903 × 14\n\n| Date &lt;chr&gt; | Continent_Name &lt;chr&gt; | Two_Letter_Country_Code &lt;chr&gt; | Country_Region &lt;chr&gt; | Province_State &lt;chr&gt; | positive &lt;int&gt; | hospitalized &lt;int&gt; | recovered &lt;int&gt; | death &lt;int&gt; | total_tested &lt;int&gt; | active &lt;int&gt; | hospitalizedCurr &lt;int&gt; | daily_tested &lt;int&gt; | daily_positive &lt;int&gt; |\n|---|---|---|---|---|---|---|---|---|---|---|---|---|---|\n| 2020-01-20 | Asia          | KR | South Korea    | All States                   | 1 | 0 | 0 | 0 |  4 | 0 | 0 | 0 | 0 |\n| 2020-01-22 | North America | US | United States  | All States                   | 1 | 0 | 0 | 0 |  1 | 0 | 0 | 0 | 0 |\n| 2020-01-22 | North America | US | United States  | Washington                   | 1 | 0 | 0 | 0 |  1 | 0 | 0 | 0 | 0 |\n| 2020-01-23 | North America | US | United States  | All States                   | 1 | 0 | 0 | 0 |  1 | 0 | 0 | 0 | 0 |\n| 2020-01-23 | North America | US | United States  | Washington                   | 1 | 0 | 0 | 0 |  1 | 0 | 0 | 0 | 0 |\n| 2020-01-24 | Asia          | KR | South Korea    | All States                   | 2 | 0 | 0 | 0 | 27 | 0 | 0 | 5 | 0 |\n| 2020-01-24 | North America | US | United States  | All States                   | 1 | 0 | 0 | 0 |  1 | 0 | 0 | 0 | 0 |\n| 2020-01-24 | North America | US | United States  | Washington                   | 1 | 0 | 0 | 0 |  1 | 0 | 0 | 0 | 0 |\n| 2020-01-25 | Oceania       | AU | Australia      | All States                   | 4 | 0 | 0 | 0 |  0 | 0 | 0 | 0 | 0 |\n| 2020-01-25 | Oceania       | AU | Australia      | Australian Capital Territory | 0 | 0 | 0 | 0 |  0 | 0 | 0 | 0 | 0 |\n| 2020-01-25 | Oceania       | AU | Australia      | New South Wales              | 3 | 0 | 0 | 0 |  0 | 0 | 0 | 0 | 0 |\n| 2020-01-25 | Oceania       | AU | Australia      | Northern Territory           | 0 | 0 | 0 | 0 |  0 | 0 | 0 | 0 | 0 |\n| 2020-01-25 | Oceania       | AU | Australia      | Queensland                   | 0 | 0 | 0 | 0 |  0 | 0 | 0 | 0 | 0 |\n| 2020-01-25 | Oceania       | AU | Australia      | South Australia              | 0 | 0 | 0 | 0 |  0 | 0 | 0 | 0 | 0 |\n| 2020-01-25 | Oceania       | AU | Australia      | Tasmania                     | 0 | 0 | 0 | 0 |  0 | 0 | 0 | 0 | 0 |\n| 2020-01-25 | Oceania       | AU | Australia      | Victoria                     | 1 | 0 | 0 | 0 |  0 | 0 | 0 | 0 | 0 |\n| 2020-01-25 | Oceania       | AU | Australia      | Western Australia            | 0 | 0 | 0 | 0 |  0 | 0 | 0 | 0 | 0 |\n| 2020-01-25 | Europe        | GB | United Kingdom | All States                   | 1 | 0 | 0 | 0 | 31 | 0 | 0 | 0 | 0 |\n| 2020-01-25 | North America | US | United States  | All States                   | 1 | 0 | 0 | 0 |  1 | 0 | 0 | 0 | 0 |\n| 2020-01-25 | North America | US | United States  | Washington                   | 1 | 0 | 0 | 0 |  1 | 0 | 0 | 0 | 0 |\n| 2020-01-26 | Oceania       | AU | Australia      | All States                   | 4 | 0 | 0 | 0 |  0 | 0 | 0 | 0 | 0 |\n| 2020-01-26 | Oceania       | AU | Australia      | Australian Capital Territory | 0 | 0 | 0 | 0 |  0 | 0 | 0 | 0 | 0 |\n| 2020-01-26 | Oceania       | AU | Australia      | New South Wales              | 3 | 0 | 0 | 0 |  0 | 0 | 0 | 0 | 0 |\n| 2020-01-26 | Oceania       | AU | Australia      | Northern Territory           | 0 | 0 | 0 | 0 |  0 | 0 | 0 | 0 | 0 |\n| 2020-01-26 | Oceania       | AU | Australia      | Queensland                   | 0 | 0 | 0 | 0 |  0 | 0 | 0 | 0 | 0 |\n| 2020-01-26 | Oceania       | AU | Australia      | South Australia              | 0 | 0 | 0 | 0 |  0 | 0 | 0 | 0 | 0 |\n| 2020-01-26 | Oceania       | AU | Australia      | Tasmania                     | 0 | 0 | 0 | 0 |  0 | 0 | 0 | 0 | 0 |\n| 2020-01-26 | Oceania       | AU | Australia      | Victoria                     | 1 | 0 | 0 | 0 |  0 | 0 | 0 | 0 | 0 |\n| 2020-01-26 | Oceania       | AU | Australia      | Western Australia            | 0 | 0 | 0 | 0 |  0 | 0 | 0 | 0 | 0 |\n| 2020-01-26 | Asia          | IL | Israel         | All States                   | 0 | 0 | 0 | 0 |  3 | 0 | 0 | 0 | 0 |\n| ⋮ | ⋮ | ⋮ | ⋮ | ⋮ | ⋮ | ⋮ | ⋮ | ⋮ | ⋮ | ⋮ | ⋮ | ⋮ | ⋮ |\n| 2020-05-31 | North America | US | United States          | South Carolina               | 11861 | 1634 |  6459 |  494 |  200216 |  4908 |  402 |  10697 |  467 |\n| 2020-05-31 | North America | US | United States          | South Dakota                 |  4993 |  432 |  3837 |   62 |   44128 |  1094 |   86 |   1190 |   33 |\n| 2020-05-31 | North America | US | United States          | Tennessee                    | 23006 | 1750 | 15300 |  364 |  435977 |  7342 |    0 |   8931 |  440 |\n| 2020-05-31 | North America | US | United States          | Texas                        | 64287 |    0 | 42423 | 1672 |  951865 | 20192 | 1684 |  58590 | 3281 |\n| 2020-05-31 | North America | US | United States          | Utah                         |  9797 |  775 |  6137 |  113 |  213914 |  3547 |  142 |   3809 |  264 |\n| 2020-05-31 | North America | US | United States          | Vermont                      |   981 |    0 |   873 |   55 |   33970 |    53 |   18 |   1303 |    4 |\n| 2020-05-31 | North America | US | United States          | Virgin Islands               |    69 |    0 |    61 |    6 |    1702 |     2 |    0 |      0 |    0 |\n| 2020-05-31 | North America | US | United States          | Virginia                     | 44607 | 7326 |  5868 | 1375 |  315391 | 37364 | 1458 |   9879 |  996 |\n| 2020-05-31 | North America | US | United States          | Washington                   | 21349 | 3480 |     0 | 1118 |  354354 |     0 |  266 |   6121 |  278 |\n| 2020-05-31 | North America | US | United States          | West Virginia                |  2010 |    0 |  1303 |   75 |   97622 |   632 |   33 |   1732 |   36 |\n| 2020-05-31 | North America | US | United States          | Wisconsin                    | 18403 | 2583 | 11646 |  592 |  268506 |  6165 |  625 |   7368 |  173 |\n| 2020-05-31 | North America | US | United States          | Wyoming                      |   903 |   85 |   658 |   16 |   24393 |   229 |   13 |    310 |    5 |\n| 2020-06-01 | Oceania       | AU | Australia              | All States                   |  7204 |    0 |  6619 |  102 | 1476416 |   483 |   21 |  17824 |    9 |\n| 2020-06-01 | Oceania       | AU | Australia              | Australian Capital Territory |   107 |    0 |   104 |    3 |   18425 |     0 |    0 |    311 |    0 |\n| 2020-06-01 | Oceania       | AU | Australia              | New South Wales              |  3098 |    0 |  2685 |   48 |  509227 |   365 |   10 |   5763 |    3 |\n| 2020-06-01 | Oceania       | AU | Australia              | Northern Territory           |    29 |    0 |    29 |    0 |    8240 |     0 |    0 |     20 |    0 |\n| 2020-06-01 | Oceania       | AU | Australia              | Queensland                   |  1058 |    0 |  1046 |    6 |  197367 |     6 |    2 |   1930 |    0 |\n| 2020-06-01 | Oceania       | AU | Australia              | South Australia              |   440 |    0 |   435 |    4 |  101944 |     1 |    0 |   1104 |    0 |\n| 2020-06-01 | Oceania       | AU | Australia              | Tasmania                     |   228 |    0 |   207 |   13 |   31671 |     8 |    2 |    375 |    0 |\n| 2020-06-01 | Oceania       | AU | Australia              | Victoria                     |  1653 |    0 |  1560 |   19 |  515541 |    74 |    6 |   5850 |    4 |\n| 2020-06-01 | Oceania       | AU | Australia              | Western Australia            |   591 |    0 |   553 |    9 |   94001 |    29 |    1 |   2471 |    2 |\n| 2020-06-01 | Europe        | AT | Austria                | All States                   |     0 |    0 |     0 |    0 |  451820 |     0 |    0 |   3286 |    0 |\n| 2020-06-01 | Asia          | BD | Bangladesh             | All States                   | 49534 |    0 | 10597 |  672 |  320969 | 38265 |    0 |  12039 | 2381 |\n| 2020-06-01 | Europe        | BA | Bosnia and Herzegovina | All States                   |     0 |    0 |     0 |    0 |   65900 |     0 |    0 |    680 |    0 |\n| 2020-06-01 | Asia          | IN | India                  | All States                   |     0 |    0 |     0 |    0 | 3837207 |     0 |    0 | 100180 |    0 |\n| 2020-06-01 | Asia          | ID | Indonesia              | All States                   |     0 |    0 |     0 |    0 |  223624 |     0 |    0 |   5887 |    0 |\n| 2020-06-01 | Europe        | PL | Poland                 | All States                   | 23987 |    0 | 11449 | 1065 |  931520 | 11473 |    0 |  15974 |  201 |\n| 2020-06-01 | Europe        | RS | Serbia                 | All States                   | 11430 |    0 |  6726 |  244 |  247760 |  4460 |  468 |   2315 |   18 |\n| 2020-06-01 | Asia          | TW | Taiwan                 | All States                   |     0 |    0 |     0 |    0 |   72319 |     0 |    0 |    237 |    0 |\n| 2020-06-01 | Asia          | VN | Vietnam                | All States                   |     0 |    0 |     0 |    0 |  261004 |     0 |    0 |      0 |    0 |\n\n",
            "text/latex": "A data.frame: 10903 × 14\n\\begin{tabular}{llllllllllllll}\n Date & Continent\\_Name & Two\\_Letter\\_Country\\_Code & Country\\_Region & Province\\_State & positive & hospitalized & recovered & death & total\\_tested & active & hospitalizedCurr & daily\\_tested & daily\\_positive\\\\\n <chr> & <chr> & <chr> & <chr> & <chr> & <int> & <int> & <int> & <int> & <int> & <int> & <int> & <int> & <int>\\\\\n\\hline\n\t 2020-01-20 & Asia          & KR & South Korea    & All States                   & 1 & 0 & 0 & 0 &  4 & 0 & 0 & 0 & 0\\\\\n\t 2020-01-22 & North America & US & United States  & All States                   & 1 & 0 & 0 & 0 &  1 & 0 & 0 & 0 & 0\\\\\n\t 2020-01-22 & North America & US & United States  & Washington                   & 1 & 0 & 0 & 0 &  1 & 0 & 0 & 0 & 0\\\\\n\t 2020-01-23 & North America & US & United States  & All States                   & 1 & 0 & 0 & 0 &  1 & 0 & 0 & 0 & 0\\\\\n\t 2020-01-23 & North America & US & United States  & Washington                   & 1 & 0 & 0 & 0 &  1 & 0 & 0 & 0 & 0\\\\\n\t 2020-01-24 & Asia          & KR & South Korea    & All States                   & 2 & 0 & 0 & 0 & 27 & 0 & 0 & 5 & 0\\\\\n\t 2020-01-24 & North America & US & United States  & All States                   & 1 & 0 & 0 & 0 &  1 & 0 & 0 & 0 & 0\\\\\n\t 2020-01-24 & North America & US & United States  & Washington                   & 1 & 0 & 0 & 0 &  1 & 0 & 0 & 0 & 0\\\\\n\t 2020-01-25 & Oceania       & AU & Australia      & All States                   & 4 & 0 & 0 & 0 &  0 & 0 & 0 & 0 & 0\\\\\n\t 2020-01-25 & Oceania       & AU & Australia      & Australian Capital Territory & 0 & 0 & 0 & 0 &  0 & 0 & 0 & 0 & 0\\\\\n\t 2020-01-25 & Oceania       & AU & Australia      & New South Wales              & 3 & 0 & 0 & 0 &  0 & 0 & 0 & 0 & 0\\\\\n\t 2020-01-25 & Oceania       & AU & Australia      & Northern Territory           & 0 & 0 & 0 & 0 &  0 & 0 & 0 & 0 & 0\\\\\n\t 2020-01-25 & Oceania       & AU & Australia      & Queensland                   & 0 & 0 & 0 & 0 &  0 & 0 & 0 & 0 & 0\\\\\n\t 2020-01-25 & Oceania       & AU & Australia      & South Australia              & 0 & 0 & 0 & 0 &  0 & 0 & 0 & 0 & 0\\\\\n\t 2020-01-25 & Oceania       & AU & Australia      & Tasmania                     & 0 & 0 & 0 & 0 &  0 & 0 & 0 & 0 & 0\\\\\n\t 2020-01-25 & Oceania       & AU & Australia      & Victoria                     & 1 & 0 & 0 & 0 &  0 & 0 & 0 & 0 & 0\\\\\n\t 2020-01-25 & Oceania       & AU & Australia      & Western Australia            & 0 & 0 & 0 & 0 &  0 & 0 & 0 & 0 & 0\\\\\n\t 2020-01-25 & Europe        & GB & United Kingdom & All States                   & 1 & 0 & 0 & 0 & 31 & 0 & 0 & 0 & 0\\\\\n\t 2020-01-25 & North America & US & United States  & All States                   & 1 & 0 & 0 & 0 &  1 & 0 & 0 & 0 & 0\\\\\n\t 2020-01-25 & North America & US & United States  & Washington                   & 1 & 0 & 0 & 0 &  1 & 0 & 0 & 0 & 0\\\\\n\t 2020-01-26 & Oceania       & AU & Australia      & All States                   & 4 & 0 & 0 & 0 &  0 & 0 & 0 & 0 & 0\\\\\n\t 2020-01-26 & Oceania       & AU & Australia      & Australian Capital Territory & 0 & 0 & 0 & 0 &  0 & 0 & 0 & 0 & 0\\\\\n\t 2020-01-26 & Oceania       & AU & Australia      & New South Wales              & 3 & 0 & 0 & 0 &  0 & 0 & 0 & 0 & 0\\\\\n\t 2020-01-26 & Oceania       & AU & Australia      & Northern Territory           & 0 & 0 & 0 & 0 &  0 & 0 & 0 & 0 & 0\\\\\n\t 2020-01-26 & Oceania       & AU & Australia      & Queensland                   & 0 & 0 & 0 & 0 &  0 & 0 & 0 & 0 & 0\\\\\n\t 2020-01-26 & Oceania       & AU & Australia      & South Australia              & 0 & 0 & 0 & 0 &  0 & 0 & 0 & 0 & 0\\\\\n\t 2020-01-26 & Oceania       & AU & Australia      & Tasmania                     & 0 & 0 & 0 & 0 &  0 & 0 & 0 & 0 & 0\\\\\n\t 2020-01-26 & Oceania       & AU & Australia      & Victoria                     & 1 & 0 & 0 & 0 &  0 & 0 & 0 & 0 & 0\\\\\n\t 2020-01-26 & Oceania       & AU & Australia      & Western Australia            & 0 & 0 & 0 & 0 &  0 & 0 & 0 & 0 & 0\\\\\n\t 2020-01-26 & Asia          & IL & Israel         & All States                   & 0 & 0 & 0 & 0 &  3 & 0 & 0 & 0 & 0\\\\\n\t ⋮ & ⋮ & ⋮ & ⋮ & ⋮ & ⋮ & ⋮ & ⋮ & ⋮ & ⋮ & ⋮ & ⋮ & ⋮ & ⋮\\\\\n\t 2020-05-31 & North America & US & United States          & South Carolina               & 11861 & 1634 &  6459 &  494 &  200216 &  4908 &  402 &  10697 &  467\\\\\n\t 2020-05-31 & North America & US & United States          & South Dakota                 &  4993 &  432 &  3837 &   62 &   44128 &  1094 &   86 &   1190 &   33\\\\\n\t 2020-05-31 & North America & US & United States          & Tennessee                    & 23006 & 1750 & 15300 &  364 &  435977 &  7342 &    0 &   8931 &  440\\\\\n\t 2020-05-31 & North America & US & United States          & Texas                        & 64287 &    0 & 42423 & 1672 &  951865 & 20192 & 1684 &  58590 & 3281\\\\\n\t 2020-05-31 & North America & US & United States          & Utah                         &  9797 &  775 &  6137 &  113 &  213914 &  3547 &  142 &   3809 &  264\\\\\n\t 2020-05-31 & North America & US & United States          & Vermont                      &   981 &    0 &   873 &   55 &   33970 &    53 &   18 &   1303 &    4\\\\\n\t 2020-05-31 & North America & US & United States          & Virgin Islands               &    69 &    0 &    61 &    6 &    1702 &     2 &    0 &      0 &    0\\\\\n\t 2020-05-31 & North America & US & United States          & Virginia                     & 44607 & 7326 &  5868 & 1375 &  315391 & 37364 & 1458 &   9879 &  996\\\\\n\t 2020-05-31 & North America & US & United States          & Washington                   & 21349 & 3480 &     0 & 1118 &  354354 &     0 &  266 &   6121 &  278\\\\\n\t 2020-05-31 & North America & US & United States          & West Virginia                &  2010 &    0 &  1303 &   75 &   97622 &   632 &   33 &   1732 &   36\\\\\n\t 2020-05-31 & North America & US & United States          & Wisconsin                    & 18403 & 2583 & 11646 &  592 &  268506 &  6165 &  625 &   7368 &  173\\\\\n\t 2020-05-31 & North America & US & United States          & Wyoming                      &   903 &   85 &   658 &   16 &   24393 &   229 &   13 &    310 &    5\\\\\n\t 2020-06-01 & Oceania       & AU & Australia              & All States                   &  7204 &    0 &  6619 &  102 & 1476416 &   483 &   21 &  17824 &    9\\\\\n\t 2020-06-01 & Oceania       & AU & Australia              & Australian Capital Territory &   107 &    0 &   104 &    3 &   18425 &     0 &    0 &    311 &    0\\\\\n\t 2020-06-01 & Oceania       & AU & Australia              & New South Wales              &  3098 &    0 &  2685 &   48 &  509227 &   365 &   10 &   5763 &    3\\\\\n\t 2020-06-01 & Oceania       & AU & Australia              & Northern Territory           &    29 &    0 &    29 &    0 &    8240 &     0 &    0 &     20 &    0\\\\\n\t 2020-06-01 & Oceania       & AU & Australia              & Queensland                   &  1058 &    0 &  1046 &    6 &  197367 &     6 &    2 &   1930 &    0\\\\\n\t 2020-06-01 & Oceania       & AU & Australia              & South Australia              &   440 &    0 &   435 &    4 &  101944 &     1 &    0 &   1104 &    0\\\\\n\t 2020-06-01 & Oceania       & AU & Australia              & Tasmania                     &   228 &    0 &   207 &   13 &   31671 &     8 &    2 &    375 &    0\\\\\n\t 2020-06-01 & Oceania       & AU & Australia              & Victoria                     &  1653 &    0 &  1560 &   19 &  515541 &    74 &    6 &   5850 &    4\\\\\n\t 2020-06-01 & Oceania       & AU & Australia              & Western Australia            &   591 &    0 &   553 &    9 &   94001 &    29 &    1 &   2471 &    2\\\\\n\t 2020-06-01 & Europe        & AT & Austria                & All States                   &     0 &    0 &     0 &    0 &  451820 &     0 &    0 &   3286 &    0\\\\\n\t 2020-06-01 & Asia          & BD & Bangladesh             & All States                   & 49534 &    0 & 10597 &  672 &  320969 & 38265 &    0 &  12039 & 2381\\\\\n\t 2020-06-01 & Europe        & BA & Bosnia and Herzegovina & All States                   &     0 &    0 &     0 &    0 &   65900 &     0 &    0 &    680 &    0\\\\\n\t 2020-06-01 & Asia          & IN & India                  & All States                   &     0 &    0 &     0 &    0 & 3837207 &     0 &    0 & 100180 &    0\\\\\n\t 2020-06-01 & Asia          & ID & Indonesia              & All States                   &     0 &    0 &     0 &    0 &  223624 &     0 &    0 &   5887 &    0\\\\\n\t 2020-06-01 & Europe        & PL & Poland                 & All States                   & 23987 &    0 & 11449 & 1065 &  931520 & 11473 &    0 &  15974 &  201\\\\\n\t 2020-06-01 & Europe        & RS & Serbia                 & All States                   & 11430 &    0 &  6726 &  244 &  247760 &  4460 &  468 &   2315 &   18\\\\\n\t 2020-06-01 & Asia          & TW & Taiwan                 & All States                   &     0 &    0 &     0 &    0 &   72319 &     0 &    0 &    237 &    0\\\\\n\t 2020-06-01 & Asia          & VN & Vietnam                & All States                   &     0 &    0 &     0 &    0 &  261004 &     0 &    0 &      0 &    0\\\\\n\\end{tabular}\n",
            "text/plain": [
              "      Date       Continent_Name Two_Letter_Country_Code Country_Region        \n",
              "1     2020-01-20 Asia           KR                      South Korea           \n",
              "2     2020-01-22 North America  US                      United States         \n",
              "3     2020-01-22 North America  US                      United States         \n",
              "4     2020-01-23 North America  US                      United States         \n",
              "5     2020-01-23 North America  US                      United States         \n",
              "6     2020-01-24 Asia           KR                      South Korea           \n",
              "7     2020-01-24 North America  US                      United States         \n",
              "8     2020-01-24 North America  US                      United States         \n",
              "9     2020-01-25 Oceania        AU                      Australia             \n",
              "10    2020-01-25 Oceania        AU                      Australia             \n",
              "11    2020-01-25 Oceania        AU                      Australia             \n",
              "12    2020-01-25 Oceania        AU                      Australia             \n",
              "13    2020-01-25 Oceania        AU                      Australia             \n",
              "14    2020-01-25 Oceania        AU                      Australia             \n",
              "15    2020-01-25 Oceania        AU                      Australia             \n",
              "16    2020-01-25 Oceania        AU                      Australia             \n",
              "17    2020-01-25 Oceania        AU                      Australia             \n",
              "18    2020-01-25 Europe         GB                      United Kingdom        \n",
              "19    2020-01-25 North America  US                      United States         \n",
              "20    2020-01-25 North America  US                      United States         \n",
              "21    2020-01-26 Oceania        AU                      Australia             \n",
              "22    2020-01-26 Oceania        AU                      Australia             \n",
              "23    2020-01-26 Oceania        AU                      Australia             \n",
              "24    2020-01-26 Oceania        AU                      Australia             \n",
              "25    2020-01-26 Oceania        AU                      Australia             \n",
              "26    2020-01-26 Oceania        AU                      Australia             \n",
              "27    2020-01-26 Oceania        AU                      Australia             \n",
              "28    2020-01-26 Oceania        AU                      Australia             \n",
              "29    2020-01-26 Oceania        AU                      Australia             \n",
              "30    2020-01-26 Asia           IL                      Israel                \n",
              "⋮     ⋮          ⋮              ⋮                       ⋮                     \n",
              "10874 2020-05-31 North America  US                      United States         \n",
              "10875 2020-05-31 North America  US                      United States         \n",
              "10876 2020-05-31 North America  US                      United States         \n",
              "10877 2020-05-31 North America  US                      United States         \n",
              "10878 2020-05-31 North America  US                      United States         \n",
              "10879 2020-05-31 North America  US                      United States         \n",
              "10880 2020-05-31 North America  US                      United States         \n",
              "10881 2020-05-31 North America  US                      United States         \n",
              "10882 2020-05-31 North America  US                      United States         \n",
              "10883 2020-05-31 North America  US                      United States         \n",
              "10884 2020-05-31 North America  US                      United States         \n",
              "10885 2020-05-31 North America  US                      United States         \n",
              "10886 2020-06-01 Oceania        AU                      Australia             \n",
              "10887 2020-06-01 Oceania        AU                      Australia             \n",
              "10888 2020-06-01 Oceania        AU                      Australia             \n",
              "10889 2020-06-01 Oceania        AU                      Australia             \n",
              "10890 2020-06-01 Oceania        AU                      Australia             \n",
              "10891 2020-06-01 Oceania        AU                      Australia             \n",
              "10892 2020-06-01 Oceania        AU                      Australia             \n",
              "10893 2020-06-01 Oceania        AU                      Australia             \n",
              "10894 2020-06-01 Oceania        AU                      Australia             \n",
              "10895 2020-06-01 Europe         AT                      Austria               \n",
              "10896 2020-06-01 Asia           BD                      Bangladesh            \n",
              "10897 2020-06-01 Europe         BA                      Bosnia and Herzegovina\n",
              "10898 2020-06-01 Asia           IN                      India                 \n",
              "10899 2020-06-01 Asia           ID                      Indonesia             \n",
              "10900 2020-06-01 Europe         PL                      Poland                \n",
              "10901 2020-06-01 Europe         RS                      Serbia                \n",
              "10902 2020-06-01 Asia           TW                      Taiwan                \n",
              "10903 2020-06-01 Asia           VN                      Vietnam               \n",
              "      Province_State               positive hospitalized recovered death\n",
              "1     All States                   1        0            0         0    \n",
              "2     All States                   1        0            0         0    \n",
              "3     Washington                   1        0            0         0    \n",
              "4     All States                   1        0            0         0    \n",
              "5     Washington                   1        0            0         0    \n",
              "6     All States                   2        0            0         0    \n",
              "7     All States                   1        0            0         0    \n",
              "8     Washington                   1        0            0         0    \n",
              "9     All States                   4        0            0         0    \n",
              "10    Australian Capital Territory 0        0            0         0    \n",
              "11    New South Wales              3        0            0         0    \n",
              "12    Northern Territory           0        0            0         0    \n",
              "13    Queensland                   0        0            0         0    \n",
              "14    South Australia              0        0            0         0    \n",
              "15    Tasmania                     0        0            0         0    \n",
              "16    Victoria                     1        0            0         0    \n",
              "17    Western Australia            0        0            0         0    \n",
              "18    All States                   1        0            0         0    \n",
              "19    All States                   1        0            0         0    \n",
              "20    Washington                   1        0            0         0    \n",
              "21    All States                   4        0            0         0    \n",
              "22    Australian Capital Territory 0        0            0         0    \n",
              "23    New South Wales              3        0            0         0    \n",
              "24    Northern Territory           0        0            0         0    \n",
              "25    Queensland                   0        0            0         0    \n",
              "26    South Australia              0        0            0         0    \n",
              "27    Tasmania                     0        0            0         0    \n",
              "28    Victoria                     1        0            0         0    \n",
              "29    Western Australia            0        0            0         0    \n",
              "30    All States                   0        0            0         0    \n",
              "⋮     ⋮                            ⋮        ⋮            ⋮         ⋮    \n",
              "10874 South Carolina               11861    1634          6459      494 \n",
              "10875 South Dakota                  4993     432          3837       62 \n",
              "10876 Tennessee                    23006    1750         15300      364 \n",
              "10877 Texas                        64287       0         42423     1672 \n",
              "10878 Utah                          9797     775          6137      113 \n",
              "10879 Vermont                        981       0           873       55 \n",
              "10880 Virgin Islands                  69       0            61        6 \n",
              "10881 Virginia                     44607    7326          5868     1375 \n",
              "10882 Washington                   21349    3480             0     1118 \n",
              "10883 West Virginia                 2010       0          1303       75 \n",
              "10884 Wisconsin                    18403    2583         11646      592 \n",
              "10885 Wyoming                        903      85           658       16 \n",
              "10886 All States                    7204       0          6619      102 \n",
              "10887 Australian Capital Territory   107       0           104        3 \n",
              "10888 New South Wales               3098       0          2685       48 \n",
              "10889 Northern Territory              29       0            29        0 \n",
              "10890 Queensland                    1058       0          1046        6 \n",
              "10891 South Australia                440       0           435        4 \n",
              "10892 Tasmania                       228       0           207       13 \n",
              "10893 Victoria                      1653       0          1560       19 \n",
              "10894 Western Australia              591       0           553        9 \n",
              "10895 All States                       0       0             0        0 \n",
              "10896 All States                   49534       0         10597      672 \n",
              "10897 All States                       0       0             0        0 \n",
              "10898 All States                       0       0             0        0 \n",
              "10899 All States                       0       0             0        0 \n",
              "10900 All States                   23987       0         11449     1065 \n",
              "10901 All States                   11430       0          6726      244 \n",
              "10902 All States                       0       0             0        0 \n",
              "10903 All States                       0       0             0        0 \n",
              "      total_tested active hospitalizedCurr daily_tested daily_positive\n",
              "1      4           0      0                0            0             \n",
              "2      1           0      0                0            0             \n",
              "3      1           0      0                0            0             \n",
              "4      1           0      0                0            0             \n",
              "5      1           0      0                0            0             \n",
              "6     27           0      0                5            0             \n",
              "7      1           0      0                0            0             \n",
              "8      1           0      0                0            0             \n",
              "9      0           0      0                0            0             \n",
              "10     0           0      0                0            0             \n",
              "11     0           0      0                0            0             \n",
              "12     0           0      0                0            0             \n",
              "13     0           0      0                0            0             \n",
              "14     0           0      0                0            0             \n",
              "15     0           0      0                0            0             \n",
              "16     0           0      0                0            0             \n",
              "17     0           0      0                0            0             \n",
              "18    31           0      0                0            0             \n",
              "19     1           0      0                0            0             \n",
              "20     1           0      0                0            0             \n",
              "21     0           0      0                0            0             \n",
              "22     0           0      0                0            0             \n",
              "23     0           0      0                0            0             \n",
              "24     0           0      0                0            0             \n",
              "25     0           0      0                0            0             \n",
              "26     0           0      0                0            0             \n",
              "27     0           0      0                0            0             \n",
              "28     0           0      0                0            0             \n",
              "29     0           0      0                0            0             \n",
              "30     3           0      0                0            0             \n",
              "⋮     ⋮            ⋮      ⋮                ⋮            ⋮             \n",
              "10874  200216       4908   402              10697        467          \n",
              "10875   44128       1094    86               1190         33          \n",
              "10876  435977       7342     0               8931        440          \n",
              "10877  951865      20192  1684              58590       3281          \n",
              "10878  213914       3547   142               3809        264          \n",
              "10879   33970         53    18               1303          4          \n",
              "10880    1702          2     0                  0          0          \n",
              "10881  315391      37364  1458               9879        996          \n",
              "10882  354354          0   266               6121        278          \n",
              "10883   97622        632    33               1732         36          \n",
              "10884  268506       6165   625               7368        173          \n",
              "10885   24393        229    13                310          5          \n",
              "10886 1476416        483    21              17824          9          \n",
              "10887   18425          0     0                311          0          \n",
              "10888  509227        365    10               5763          3          \n",
              "10889    8240          0     0                 20          0          \n",
              "10890  197367          6     2               1930          0          \n",
              "10891  101944          1     0               1104          0          \n",
              "10892   31671          8     2                375          0          \n",
              "10893  515541         74     6               5850          4          \n",
              "10894   94001         29     1               2471          2          \n",
              "10895  451820          0     0               3286          0          \n",
              "10896  320969      38265     0              12039       2381          \n",
              "10897   65900          0     0                680          0          \n",
              "10898 3837207          0     0             100180          0          \n",
              "10899  223624          0     0               5887          0          \n",
              "10900  931520      11473     0              15974        201          \n",
              "10901  247760       4460   468               2315         18          \n",
              "10902   72319          0     0                237          0          \n",
              "10903  261004          0     0                  0          0          "
            ]
          },
          "metadata": {}
        }
      ]
    },
    {
      "cell_type": "markdown",
      "source": [
        "# Filtering Relevant Rows"
      ],
      "metadata": {
        "id": "yYDjc3F_PUbX"
      }
    },
    {
      "cell_type": "code",
      "source": [
        "library(dplyr)\n"
      ],
      "metadata": {
        "id": "rttKXoS_PRg8"
      },
      "execution_count": null,
      "outputs": []
    },
    {
      "cell_type": "code",
      "source": [
        "#filter the data to select rows with \"All States\" in the Province_State column, and remove the column\n",
        "filtered_data <- covid_data %>%\n",
        "  filter(Province_State == \"All States\") %>%\n",
        "  select(-Province_State)\n"
      ],
      "metadata": {
        "id": "3TNEDZbTPhBk"
      },
      "execution_count": null,
      "outputs": []
    },
    {
      "cell_type": "markdown",
      "source": [
        "We can remove the \"Province_State\" column without losing any information because it only contains \"All States\" (which is not needed) after the filtering process."
      ],
      "metadata": {
        "id": "RJWVGQsSPobi"
      }
    },
    {
      "cell_type": "markdown",
      "source": [
        "# Selecting Relevant Columns"
      ],
      "metadata": {
        "id": "3sw-XU-dPs0Y"
      }
    },
    {
      "cell_type": "code",
      "source": [
        "selected_columns <- filtered_data %>%\n",
        "  select(Date, Country_Region, active, hospitalizedCurr, daily_tested, daily_positive)\n",
        "\n",
        "head_selected_columns <- head(selected_columns)\n",
        "head_selected_columns\n"
      ],
      "metadata": {
        "colab": {
          "base_uri": "https://localhost:8080/",
          "height": 286
        },
        "id": "hY4kG4dHPkmL",
        "outputId": "a1bb2fe5-d8b9-4d94-cc91-92deabf7c2bc"
      },
      "execution_count": null,
      "outputs": [
        {
          "output_type": "display_data",
          "data": {
            "text/html": [
              "<table class=\"dataframe\">\n",
              "<caption>A data.frame: 6 × 6</caption>\n",
              "<thead>\n",
              "\t<tr><th></th><th scope=col>Date</th><th scope=col>Country_Region</th><th scope=col>active</th><th scope=col>hospitalizedCurr</th><th scope=col>daily_tested</th><th scope=col>daily_positive</th></tr>\n",
              "\t<tr><th></th><th scope=col>&lt;chr&gt;</th><th scope=col>&lt;chr&gt;</th><th scope=col>&lt;int&gt;</th><th scope=col>&lt;int&gt;</th><th scope=col>&lt;int&gt;</th><th scope=col>&lt;int&gt;</th></tr>\n",
              "</thead>\n",
              "<tbody>\n",
              "\t<tr><th scope=row>1</th><td>2020-01-20</td><td>South Korea  </td><td>0</td><td>0</td><td>0</td><td>0</td></tr>\n",
              "\t<tr><th scope=row>2</th><td>2020-01-22</td><td>United States</td><td>0</td><td>0</td><td>0</td><td>0</td></tr>\n",
              "\t<tr><th scope=row>3</th><td>2020-01-23</td><td>United States</td><td>0</td><td>0</td><td>0</td><td>0</td></tr>\n",
              "\t<tr><th scope=row>4</th><td>2020-01-24</td><td>South Korea  </td><td>0</td><td>0</td><td>5</td><td>0</td></tr>\n",
              "\t<tr><th scope=row>5</th><td>2020-01-24</td><td>United States</td><td>0</td><td>0</td><td>0</td><td>0</td></tr>\n",
              "\t<tr><th scope=row>6</th><td>2020-01-25</td><td>Australia    </td><td>0</td><td>0</td><td>0</td><td>0</td></tr>\n",
              "</tbody>\n",
              "</table>\n"
            ],
            "text/markdown": "\nA data.frame: 6 × 6\n\n| <!--/--> | Date &lt;chr&gt; | Country_Region &lt;chr&gt; | active &lt;int&gt; | hospitalizedCurr &lt;int&gt; | daily_tested &lt;int&gt; | daily_positive &lt;int&gt; |\n|---|---|---|---|---|---|---|\n| 1 | 2020-01-20 | South Korea   | 0 | 0 | 0 | 0 |\n| 2 | 2020-01-22 | United States | 0 | 0 | 0 | 0 |\n| 3 | 2020-01-23 | United States | 0 | 0 | 0 | 0 |\n| 4 | 2020-01-24 | South Korea   | 0 | 0 | 5 | 0 |\n| 5 | 2020-01-24 | United States | 0 | 0 | 0 | 0 |\n| 6 | 2020-01-25 | Australia     | 0 | 0 | 0 | 0 |\n\n",
            "text/latex": "A data.frame: 6 × 6\n\\begin{tabular}{r|llllll}\n  & Date & Country\\_Region & active & hospitalizedCurr & daily\\_tested & daily\\_positive\\\\\n  & <chr> & <chr> & <int> & <int> & <int> & <int>\\\\\n\\hline\n\t1 & 2020-01-20 & South Korea   & 0 & 0 & 0 & 0\\\\\n\t2 & 2020-01-22 & United States & 0 & 0 & 0 & 0\\\\\n\t3 & 2020-01-23 & United States & 0 & 0 & 0 & 0\\\\\n\t4 & 2020-01-24 & South Korea   & 0 & 0 & 5 & 0\\\\\n\t5 & 2020-01-24 & United States & 0 & 0 & 0 & 0\\\\\n\t6 & 2020-01-25 & Australia     & 0 & 0 & 0 & 0\\\\\n\\end{tabular}\n",
            "text/plain": [
              "  Date       Country_Region active hospitalizedCurr daily_tested daily_positive\n",
              "1 2020-01-20 South Korea    0      0                0            0             \n",
              "2 2020-01-22 United States  0      0                0            0             \n",
              "3 2020-01-23 United States  0      0                0            0             \n",
              "4 2020-01-24 South Korea    0      0                5            0             \n",
              "5 2020-01-24 United States  0      0                0            0             \n",
              "6 2020-01-25 Australia      0      0                0            0             "
            ]
          },
          "metadata": {}
        }
      ]
    },
    {
      "cell_type": "markdown",
      "source": [
        "# Extracting the Top Ten countries with the highest number of tested cases"
      ],
      "metadata": {
        "id": "STc9F4JHPx-P"
      }
    },
    {
      "cell_type": "code",
      "source": [
        "summary_data <- selected_columns %>%\n",
        "  group_by(Country_Region) %>%\n",
        "  summarise(tested = sum(daily_tested),\n",
        "            positive = sum(daily_positive),\n",
        "            active = sum(active),\n",
        "            hospitalized = sum(hospitalizedCurr)) %>%\n",
        "  arrange(desc(tested))\n",
        "\n",
        "summary_data\n"
      ],
      "metadata": {
        "colab": {
          "base_uri": "https://localhost:8080/",
          "height": 1000
        },
        "id": "AVk-7NHWPvHe",
        "outputId": "39b12ea2-0c80-4c8c-9719-bcced76e56a9"
      },
      "execution_count": null,
      "outputs": [
        {
          "output_type": "display_data",
          "data": {
            "text/html": [
              "<table class=\"dataframe\">\n",
              "<caption>A tibble: 108 × 5</caption>\n",
              "<thead>\n",
              "\t<tr><th scope=col>Country_Region</th><th scope=col>tested</th><th scope=col>positive</th><th scope=col>active</th><th scope=col>hospitalized</th></tr>\n",
              "\t<tr><th scope=col>&lt;chr&gt;</th><th scope=col>&lt;int&gt;</th><th scope=col>&lt;int&gt;</th><th scope=col>&lt;int&gt;</th><th scope=col>&lt;int&gt;</th></tr>\n",
              "</thead>\n",
              "<tbody>\n",
              "\t<tr><td>United States       </td><td>17282363</td><td>1877179</td><td>      0</td><td>      0</td></tr>\n",
              "\t<tr><td>Russia              </td><td>10542266</td><td> 406368</td><td>6924890</td><td>      0</td></tr>\n",
              "\t<tr><td>Italy               </td><td> 4091291</td><td> 251710</td><td>6202214</td><td>1699003</td></tr>\n",
              "\t<tr><td>India               </td><td> 3692851</td><td>  60959</td><td>      0</td><td>      0</td></tr>\n",
              "\t<tr><td>Turkey              </td><td> 2031192</td><td> 163941</td><td>2980960</td><td>      0</td></tr>\n",
              "\t<tr><td>Canada              </td><td> 1654779</td><td>  90873</td><td>  56454</td><td>      0</td></tr>\n",
              "\t<tr><td>United Kingdom      </td><td> 1473672</td><td> 166909</td><td>      0</td><td>      0</td></tr>\n",
              "\t<tr><td>Australia           </td><td> 1252900</td><td>   7200</td><td> 134586</td><td>   6655</td></tr>\n",
              "\t<tr><td>Peru                </td><td>  976790</td><td>  59497</td><td>      0</td><td>      0</td></tr>\n",
              "\t<tr><td>Poland              </td><td>  928256</td><td>  23987</td><td> 538203</td><td>      0</td></tr>\n",
              "\t<tr><td>South Korea         </td><td>  916276</td><td>  11493</td><td> 302633</td><td>      0</td></tr>\n",
              "\t<tr><td>Israel              </td><td>  546626</td><td>  16647</td><td>      0</td><td>  30653</td></tr>\n",
              "\t<tr><td>Germany             </td><td>  518647</td><td>  29943</td><td>      0</td><td>      0</td></tr>\n",
              "\t<tr><td>Belgium             </td><td>  511055</td><td>  54209</td><td> 220744</td><td>      0</td></tr>\n",
              "\t<tr><td>Czech Republic      </td><td>  446758</td><td>   9321</td><td>      0</td><td>      0</td></tr>\n",
              "\t<tr><td>Pakistan            </td><td>  421626</td><td>  22607</td><td>      0</td><td>      0</td></tr>\n",
              "\t<tr><td>Denmark             </td><td>  383167</td><td>   6867</td><td>      0</td><td>      0</td></tr>\n",
              "\t<tr><td>Malaysia            </td><td>  345880</td><td>   2257</td><td>      0</td><td>      0</td></tr>\n",
              "\t<tr><td>Ukraine             </td><td>  339762</td><td>  23619</td><td> 501572</td><td>      0</td></tr>\n",
              "\t<tr><td>Austria             </td><td>  337293</td><td>   5366</td><td>      0</td><td>      0</td></tr>\n",
              "\t<tr><td>Bangladesh          </td><td>  320834</td><td>  49531</td><td> 685992</td><td>      0</td></tr>\n",
              "\t<tr><td>Lithuania           </td><td>  302743</td><td>   1674</td><td>  46323</td><td>      0</td></tr>\n",
              "\t<tr><td>United Arab Emirates</td><td>  299755</td><td>   3044</td><td>      0</td><td>      0</td></tr>\n",
              "\t<tr><td>New Zealand         </td><td>  281301</td><td>   1221</td><td>  47365</td><td>  25241</td></tr>\n",
              "\t<tr><td>Spain               </td><td>  252243</td><td>   8970</td><td>      0</td><td>      0</td></tr>\n",
              "\t<tr><td>Philippines         </td><td>  245525</td><td>   6630</td><td>      0</td><td>      0</td></tr>\n",
              "\t<tr><td>Serbia              </td><td>  242139</td><td>  11357</td><td> 320568</td><td> 111807</td></tr>\n",
              "\t<tr><td>Japan               </td><td>  235826</td><td>   9196</td><td>      0</td><td>      0</td></tr>\n",
              "\t<tr><td>Portugal            </td><td>  221534</td><td>   5623</td><td>      0</td><td>      0</td></tr>\n",
              "\t<tr><td>South Africa        </td><td>  207167</td><td>   2993</td><td>      0</td><td>      0</td></tr>\n",
              "\t<tr><td>⋮</td><td>⋮</td><td>⋮</td><td>⋮</td><td>⋮</td></tr>\n",
              "\t<tr><td>Uganda             </td><td>8053</td><td>  2</td><td>0</td><td>0</td></tr>\n",
              "\t<tr><td>Ethiopia           </td><td>6460</td><td>  0</td><td>0</td><td>0</td></tr>\n",
              "\t<tr><td>Tunisia            </td><td>6436</td><td> 20</td><td>0</td><td>0</td></tr>\n",
              "\t<tr><td>Cuba               </td><td>5978</td><td> 50</td><td>0</td><td>0</td></tr>\n",
              "\t<tr><td>Albania            </td><td>5794</td><td>374</td><td>0</td><td>0</td></tr>\n",
              "\t<tr><td>North Macedonia    </td><td>5473</td><td>506</td><td>0</td><td>0</td></tr>\n",
              "\t<tr><td>Montenegro         </td><td>4556</td><td>143</td><td>0</td><td>0</td></tr>\n",
              "\t<tr><td>Egypt              </td><td>4220</td><td>288</td><td>0</td><td>0</td></tr>\n",
              "\t<tr><td>Uruguay            </td><td>4059</td><td> 38</td><td>0</td><td>0</td></tr>\n",
              "\t<tr><td>Panama             </td><td>3797</td><td>605</td><td>0</td><td>0</td></tr>\n",
              "\t<tr><td>Kenya              </td><td>2989</td><td> 29</td><td>0</td><td>0</td></tr>\n",
              "\t<tr><td>Palestine          </td><td>2385</td><td> 27</td><td>0</td><td>0</td></tr>\n",
              "\t<tr><td>El Salvador        </td><td>1993</td><td>  0</td><td>0</td><td>0</td></tr>\n",
              "\t<tr><td>Cameroon           </td><td>1928</td><td>108</td><td>0</td><td>0</td></tr>\n",
              "\t<tr><td>Bolivia            </td><td>1717</td><td>148</td><td>0</td><td>0</td></tr>\n",
              "\t<tr><td>Lebanon            </td><td>1149</td><td>  0</td><td>0</td><td>0</td></tr>\n",
              "\t<tr><td>Senegal            </td><td>1132</td><td>  0</td><td>0</td><td>0</td></tr>\n",
              "\t<tr><td>Ivory Coast        </td><td>1065</td><td> 31</td><td>0</td><td>0</td></tr>\n",
              "\t<tr><td>Myanmar            </td><td> 969</td><td>  0</td><td>0</td><td>0</td></tr>\n",
              "\t<tr><td>Jamaica            </td><td> 840</td><td> 29</td><td>0</td><td>0</td></tr>\n",
              "\t<tr><td>Barbados           </td><td> 594</td><td>  2</td><td>0</td><td>0</td></tr>\n",
              "\t<tr><td>Mozambique         </td><td> 374</td><td>  0</td><td>0</td><td>0</td></tr>\n",
              "\t<tr><td>Burkina Faso       </td><td> 331</td><td>  0</td><td>0</td><td>0</td></tr>\n",
              "\t<tr><td>Congo              </td><td> 223</td><td> 14</td><td>0</td><td>0</td></tr>\n",
              "\t<tr><td>Guinea             </td><td> 193</td><td>  0</td><td>0</td><td>0</td></tr>\n",
              "\t<tr><td>Trinidad and Tobago</td><td> 188</td><td>  5</td><td>0</td><td>0</td></tr>\n",
              "\t<tr><td>Grenada            </td><td> 173</td><td>  0</td><td>0</td><td>0</td></tr>\n",
              "\t<tr><td>Malawi             </td><td>  93</td><td>  1</td><td>0</td><td>0</td></tr>\n",
              "\t<tr><td>North Korea        </td><td>   2</td><td>  0</td><td>0</td><td>0</td></tr>\n",
              "\t<tr><td>Tanzania           </td><td>   0</td><td>  0</td><td>0</td><td>0</td></tr>\n",
              "</tbody>\n",
              "</table>\n"
            ],
            "text/markdown": "\nA tibble: 108 × 5\n\n| Country_Region &lt;chr&gt; | tested &lt;int&gt; | positive &lt;int&gt; | active &lt;int&gt; | hospitalized &lt;int&gt; |\n|---|---|---|---|---|\n| United States        | 17282363 | 1877179 |       0 |       0 |\n| Russia               | 10542266 |  406368 | 6924890 |       0 |\n| Italy                |  4091291 |  251710 | 6202214 | 1699003 |\n| India                |  3692851 |   60959 |       0 |       0 |\n| Turkey               |  2031192 |  163941 | 2980960 |       0 |\n| Canada               |  1654779 |   90873 |   56454 |       0 |\n| United Kingdom       |  1473672 |  166909 |       0 |       0 |\n| Australia            |  1252900 |    7200 |  134586 |    6655 |\n| Peru                 |   976790 |   59497 |       0 |       0 |\n| Poland               |   928256 |   23987 |  538203 |       0 |\n| South Korea          |   916276 |   11493 |  302633 |       0 |\n| Israel               |   546626 |   16647 |       0 |   30653 |\n| Germany              |   518647 |   29943 |       0 |       0 |\n| Belgium              |   511055 |   54209 |  220744 |       0 |\n| Czech Republic       |   446758 |    9321 |       0 |       0 |\n| Pakistan             |   421626 |   22607 |       0 |       0 |\n| Denmark              |   383167 |    6867 |       0 |       0 |\n| Malaysia             |   345880 |    2257 |       0 |       0 |\n| Ukraine              |   339762 |   23619 |  501572 |       0 |\n| Austria              |   337293 |    5366 |       0 |       0 |\n| Bangladesh           |   320834 |   49531 |  685992 |       0 |\n| Lithuania            |   302743 |    1674 |   46323 |       0 |\n| United Arab Emirates |   299755 |    3044 |       0 |       0 |\n| New Zealand          |   281301 |    1221 |   47365 |   25241 |\n| Spain                |   252243 |    8970 |       0 |       0 |\n| Philippines          |   245525 |    6630 |       0 |       0 |\n| Serbia               |   242139 |   11357 |  320568 |  111807 |\n| Japan                |   235826 |    9196 |       0 |       0 |\n| Portugal             |   221534 |    5623 |       0 |       0 |\n| South Africa         |   207167 |    2993 |       0 |       0 |\n| ⋮ | ⋮ | ⋮ | ⋮ | ⋮ |\n| Uganda              | 8053 |   2 | 0 | 0 |\n| Ethiopia            | 6460 |   0 | 0 | 0 |\n| Tunisia             | 6436 |  20 | 0 | 0 |\n| Cuba                | 5978 |  50 | 0 | 0 |\n| Albania             | 5794 | 374 | 0 | 0 |\n| North Macedonia     | 5473 | 506 | 0 | 0 |\n| Montenegro          | 4556 | 143 | 0 | 0 |\n| Egypt               | 4220 | 288 | 0 | 0 |\n| Uruguay             | 4059 |  38 | 0 | 0 |\n| Panama              | 3797 | 605 | 0 | 0 |\n| Kenya               | 2989 |  29 | 0 | 0 |\n| Palestine           | 2385 |  27 | 0 | 0 |\n| El Salvador         | 1993 |   0 | 0 | 0 |\n| Cameroon            | 1928 | 108 | 0 | 0 |\n| Bolivia             | 1717 | 148 | 0 | 0 |\n| Lebanon             | 1149 |   0 | 0 | 0 |\n| Senegal             | 1132 |   0 | 0 | 0 |\n| Ivory Coast         | 1065 |  31 | 0 | 0 |\n| Myanmar             |  969 |   0 | 0 | 0 |\n| Jamaica             |  840 |  29 | 0 | 0 |\n| Barbados            |  594 |   2 | 0 | 0 |\n| Mozambique          |  374 |   0 | 0 | 0 |\n| Burkina Faso        |  331 |   0 | 0 | 0 |\n| Congo               |  223 |  14 | 0 | 0 |\n| Guinea              |  193 |   0 | 0 | 0 |\n| Trinidad and Tobago |  188 |   5 | 0 | 0 |\n| Grenada             |  173 |   0 | 0 | 0 |\n| Malawi              |   93 |   1 | 0 | 0 |\n| North Korea         |    2 |   0 | 0 | 0 |\n| Tanzania            |    0 |   0 | 0 | 0 |\n\n",
            "text/latex": "A tibble: 108 × 5\n\\begin{tabular}{lllll}\n Country\\_Region & tested & positive & active & hospitalized\\\\\n <chr> & <int> & <int> & <int> & <int>\\\\\n\\hline\n\t United States        & 17282363 & 1877179 &       0 &       0\\\\\n\t Russia               & 10542266 &  406368 & 6924890 &       0\\\\\n\t Italy                &  4091291 &  251710 & 6202214 & 1699003\\\\\n\t India                &  3692851 &   60959 &       0 &       0\\\\\n\t Turkey               &  2031192 &  163941 & 2980960 &       0\\\\\n\t Canada               &  1654779 &   90873 &   56454 &       0\\\\\n\t United Kingdom       &  1473672 &  166909 &       0 &       0\\\\\n\t Australia            &  1252900 &    7200 &  134586 &    6655\\\\\n\t Peru                 &   976790 &   59497 &       0 &       0\\\\\n\t Poland               &   928256 &   23987 &  538203 &       0\\\\\n\t South Korea          &   916276 &   11493 &  302633 &       0\\\\\n\t Israel               &   546626 &   16647 &       0 &   30653\\\\\n\t Germany              &   518647 &   29943 &       0 &       0\\\\\n\t Belgium              &   511055 &   54209 &  220744 &       0\\\\\n\t Czech Republic       &   446758 &    9321 &       0 &       0\\\\\n\t Pakistan             &   421626 &   22607 &       0 &       0\\\\\n\t Denmark              &   383167 &    6867 &       0 &       0\\\\\n\t Malaysia             &   345880 &    2257 &       0 &       0\\\\\n\t Ukraine              &   339762 &   23619 &  501572 &       0\\\\\n\t Austria              &   337293 &    5366 &       0 &       0\\\\\n\t Bangladesh           &   320834 &   49531 &  685992 &       0\\\\\n\t Lithuania            &   302743 &    1674 &   46323 &       0\\\\\n\t United Arab Emirates &   299755 &    3044 &       0 &       0\\\\\n\t New Zealand          &   281301 &    1221 &   47365 &   25241\\\\\n\t Spain                &   252243 &    8970 &       0 &       0\\\\\n\t Philippines          &   245525 &    6630 &       0 &       0\\\\\n\t Serbia               &   242139 &   11357 &  320568 &  111807\\\\\n\t Japan                &   235826 &    9196 &       0 &       0\\\\\n\t Portugal             &   221534 &    5623 &       0 &       0\\\\\n\t South Africa         &   207167 &    2993 &       0 &       0\\\\\n\t ⋮ & ⋮ & ⋮ & ⋮ & ⋮\\\\\n\t Uganda              & 8053 &   2 & 0 & 0\\\\\n\t Ethiopia            & 6460 &   0 & 0 & 0\\\\\n\t Tunisia             & 6436 &  20 & 0 & 0\\\\\n\t Cuba                & 5978 &  50 & 0 & 0\\\\\n\t Albania             & 5794 & 374 & 0 & 0\\\\\n\t North Macedonia     & 5473 & 506 & 0 & 0\\\\\n\t Montenegro          & 4556 & 143 & 0 & 0\\\\\n\t Egypt               & 4220 & 288 & 0 & 0\\\\\n\t Uruguay             & 4059 &  38 & 0 & 0\\\\\n\t Panama              & 3797 & 605 & 0 & 0\\\\\n\t Kenya               & 2989 &  29 & 0 & 0\\\\\n\t Palestine           & 2385 &  27 & 0 & 0\\\\\n\t El Salvador         & 1993 &   0 & 0 & 0\\\\\n\t Cameroon            & 1928 & 108 & 0 & 0\\\\\n\t Bolivia             & 1717 & 148 & 0 & 0\\\\\n\t Lebanon             & 1149 &   0 & 0 & 0\\\\\n\t Senegal             & 1132 &   0 & 0 & 0\\\\\n\t Ivory Coast         & 1065 &  31 & 0 & 0\\\\\n\t Myanmar             &  969 &   0 & 0 & 0\\\\\n\t Jamaica             &  840 &  29 & 0 & 0\\\\\n\t Barbados            &  594 &   2 & 0 & 0\\\\\n\t Mozambique          &  374 &   0 & 0 & 0\\\\\n\t Burkina Faso        &  331 &   0 & 0 & 0\\\\\n\t Congo               &  223 &  14 & 0 & 0\\\\\n\t Guinea              &  193 &   0 & 0 & 0\\\\\n\t Trinidad and Tobago &  188 &   5 & 0 & 0\\\\\n\t Grenada             &  173 &   0 & 0 & 0\\\\\n\t Malawi              &   93 &   1 & 0 & 0\\\\\n\t North Korea         &    2 &   0 & 0 & 0\\\\\n\t Tanzania            &    0 &   0 & 0 & 0\\\\\n\\end{tabular}\n",
            "text/plain": [
              "    Country_Region       tested   positive active  hospitalized\n",
              "1   United States        17282363 1877179        0       0     \n",
              "2   Russia               10542266  406368  6924890       0     \n",
              "3   Italy                 4091291  251710  6202214 1699003     \n",
              "4   India                 3692851   60959        0       0     \n",
              "5   Turkey                2031192  163941  2980960       0     \n",
              "6   Canada                1654779   90873    56454       0     \n",
              "7   United Kingdom        1473672  166909        0       0     \n",
              "8   Australia             1252900    7200   134586    6655     \n",
              "9   Peru                   976790   59497        0       0     \n",
              "10  Poland                 928256   23987   538203       0     \n",
              "11  South Korea            916276   11493   302633       0     \n",
              "12  Israel                 546626   16647        0   30653     \n",
              "13  Germany                518647   29943        0       0     \n",
              "14  Belgium                511055   54209   220744       0     \n",
              "15  Czech Republic         446758    9321        0       0     \n",
              "16  Pakistan               421626   22607        0       0     \n",
              "17  Denmark                383167    6867        0       0     \n",
              "18  Malaysia               345880    2257        0       0     \n",
              "19  Ukraine                339762   23619   501572       0     \n",
              "20  Austria                337293    5366        0       0     \n",
              "21  Bangladesh             320834   49531   685992       0     \n",
              "22  Lithuania              302743    1674    46323       0     \n",
              "23  United Arab Emirates   299755    3044        0       0     \n",
              "24  New Zealand            281301    1221    47365   25241     \n",
              "25  Spain                  252243    8970        0       0     \n",
              "26  Philippines            245525    6630        0       0     \n",
              "27  Serbia                 242139   11357   320568  111807     \n",
              "28  Japan                  235826    9196        0       0     \n",
              "29  Portugal               221534    5623        0       0     \n",
              "30  South Africa           207167    2993        0       0     \n",
              "⋮   ⋮                    ⋮        ⋮        ⋮       ⋮           \n",
              "79  Uganda               8053       2      0       0           \n",
              "80  Ethiopia             6460       0      0       0           \n",
              "81  Tunisia              6436      20      0       0           \n",
              "82  Cuba                 5978      50      0       0           \n",
              "83  Albania              5794     374      0       0           \n",
              "84  North Macedonia      5473     506      0       0           \n",
              "85  Montenegro           4556     143      0       0           \n",
              "86  Egypt                4220     288      0       0           \n",
              "87  Uruguay              4059      38      0       0           \n",
              "88  Panama               3797     605      0       0           \n",
              "89  Kenya                2989      29      0       0           \n",
              "90  Palestine            2385      27      0       0           \n",
              "91  El Salvador          1993       0      0       0           \n",
              "92  Cameroon             1928     108      0       0           \n",
              "93  Bolivia              1717     148      0       0           \n",
              "94  Lebanon              1149       0      0       0           \n",
              "95  Senegal              1132       0      0       0           \n",
              "96  Ivory Coast          1065      31      0       0           \n",
              "97  Myanmar               969       0      0       0           \n",
              "98  Jamaica               840      29      0       0           \n",
              "99  Barbados              594       2      0       0           \n",
              "100 Mozambique            374       0      0       0           \n",
              "101 Burkina Faso          331       0      0       0           \n",
              "102 Congo                 223      14      0       0           \n",
              "103 Guinea                193       0      0       0           \n",
              "104 Trinidad and Tobago   188       5      0       0           \n",
              "105 Grenada               173       0      0       0           \n",
              "106 Malawi                 93       1      0       0           \n",
              "107 North Korea             2       0      0       0           \n",
              "108 Tanzania                0       0      0       0           "
            ]
          },
          "metadata": {}
        }
      ]
    },
    {
      "cell_type": "code",
      "source": [
        "top_10_countries <- head(summary_data, 10)\n",
        "\n",
        "top_10_countries\n"
      ],
      "metadata": {
        "colab": {
          "base_uri": "https://localhost:8080/",
          "height": 411
        },
        "id": "F81N81UMP7-U",
        "outputId": "7c5f7ab9-bb33-41cc-953c-f53ea761f8c4"
      },
      "execution_count": null,
      "outputs": [
        {
          "output_type": "display_data",
          "data": {
            "text/html": [
              "<table class=\"dataframe\">\n",
              "<caption>A tibble: 10 × 5</caption>\n",
              "<thead>\n",
              "\t<tr><th scope=col>Country_Region</th><th scope=col>tested</th><th scope=col>positive</th><th scope=col>active</th><th scope=col>hospitalized</th></tr>\n",
              "\t<tr><th scope=col>&lt;chr&gt;</th><th scope=col>&lt;int&gt;</th><th scope=col>&lt;int&gt;</th><th scope=col>&lt;int&gt;</th><th scope=col>&lt;int&gt;</th></tr>\n",
              "</thead>\n",
              "<tbody>\n",
              "\t<tr><td>United States </td><td>17282363</td><td>1877179</td><td>      0</td><td>      0</td></tr>\n",
              "\t<tr><td>Russia        </td><td>10542266</td><td> 406368</td><td>6924890</td><td>      0</td></tr>\n",
              "\t<tr><td>Italy         </td><td> 4091291</td><td> 251710</td><td>6202214</td><td>1699003</td></tr>\n",
              "\t<tr><td>India         </td><td> 3692851</td><td>  60959</td><td>      0</td><td>      0</td></tr>\n",
              "\t<tr><td>Turkey        </td><td> 2031192</td><td> 163941</td><td>2980960</td><td>      0</td></tr>\n",
              "\t<tr><td>Canada        </td><td> 1654779</td><td>  90873</td><td>  56454</td><td>      0</td></tr>\n",
              "\t<tr><td>United Kingdom</td><td> 1473672</td><td> 166909</td><td>      0</td><td>      0</td></tr>\n",
              "\t<tr><td>Australia     </td><td> 1252900</td><td>   7200</td><td> 134586</td><td>   6655</td></tr>\n",
              "\t<tr><td>Peru          </td><td>  976790</td><td>  59497</td><td>      0</td><td>      0</td></tr>\n",
              "\t<tr><td>Poland        </td><td>  928256</td><td>  23987</td><td> 538203</td><td>      0</td></tr>\n",
              "</tbody>\n",
              "</table>\n"
            ],
            "text/markdown": "\nA tibble: 10 × 5\n\n| Country_Region &lt;chr&gt; | tested &lt;int&gt; | positive &lt;int&gt; | active &lt;int&gt; | hospitalized &lt;int&gt; |\n|---|---|---|---|---|\n| United States  | 17282363 | 1877179 |       0 |       0 |\n| Russia         | 10542266 |  406368 | 6924890 |       0 |\n| Italy          |  4091291 |  251710 | 6202214 | 1699003 |\n| India          |  3692851 |   60959 |       0 |       0 |\n| Turkey         |  2031192 |  163941 | 2980960 |       0 |\n| Canada         |  1654779 |   90873 |   56454 |       0 |\n| United Kingdom |  1473672 |  166909 |       0 |       0 |\n| Australia      |  1252900 |    7200 |  134586 |    6655 |\n| Peru           |   976790 |   59497 |       0 |       0 |\n| Poland         |   928256 |   23987 |  538203 |       0 |\n\n",
            "text/latex": "A tibble: 10 × 5\n\\begin{tabular}{lllll}\n Country\\_Region & tested & positive & active & hospitalized\\\\\n <chr> & <int> & <int> & <int> & <int>\\\\\n\\hline\n\t United States  & 17282363 & 1877179 &       0 &       0\\\\\n\t Russia         & 10542266 &  406368 & 6924890 &       0\\\\\n\t Italy          &  4091291 &  251710 & 6202214 & 1699003\\\\\n\t India          &  3692851 &   60959 &       0 &       0\\\\\n\t Turkey         &  2031192 &  163941 & 2980960 &       0\\\\\n\t Canada         &  1654779 &   90873 &   56454 &       0\\\\\n\t United Kingdom &  1473672 &  166909 &       0 &       0\\\\\n\t Australia      &  1252900 &    7200 &  134586 &    6655\\\\\n\t Peru           &   976790 &   59497 &       0 &       0\\\\\n\t Poland         &   928256 &   23987 &  538203 &       0\\\\\n\\end{tabular}\n",
            "text/plain": [
              "   Country_Region tested   positive active  hospitalized\n",
              "1  United States  17282363 1877179        0       0     \n",
              "2  Russia         10542266  406368  6924890       0     \n",
              "3  Italy           4091291  251710  6202214 1699003     \n",
              "4  India           3692851   60959        0       0     \n",
              "5  Turkey          2031192  163941  2980960       0     \n",
              "6  Canada          1654779   90873    56454       0     \n",
              "7  United Kingdom  1473672  166909        0       0     \n",
              "8  Australia       1252900    7200   134586    6655     \n",
              "9  Peru             976790   59497        0       0     \n",
              "10 Poland           928256   23987   538203       0     "
            ]
          },
          "metadata": {}
        }
      ]
    },
    {
      "cell_type": "markdown",
      "source": [
        "# Identifying the Highest Ratio of Positive Cases to Tested Cases"
      ],
      "metadata": {
        "id": "FfSr6rfGQAzo"
      }
    },
    {
      "cell_type": "code",
      "source": [
        "#creating vectors\n",
        "countries <- top_10_countries$Country_Region\n",
        "tested_cases <- top_10_countries$tested\n",
        "positive_cases <- top_10_countries$positive\n",
        "active_cases <- top_10_countries$active\n",
        "hospitalized_cases <- top_10_countries$hospitalized\n"
      ],
      "metadata": {
        "id": "tP2aRoWXP-iL"
      },
      "execution_count": null,
      "outputs": []
    },
    {
      "cell_type": "code",
      "source": [
        "#naming the vectors using names() function\n",
        "names(positive_cases) <- countries\n",
        "names(tested_cases) <- countries\n",
        "names(active_cases) <- countries\n",
        "names(hospitalized_cases) <- countries\n"
      ],
      "metadata": {
        "id": "usMBOOjBQGCp"
      },
      "execution_count": null,
      "outputs": []
    },
    {
      "cell_type": "code",
      "source": [
        "#identifying the ratio of positive cases to tested cases\n",
        "positive_cases\n",
        "\n",
        "total_positive_cases <- sum(positive_cases)\n",
        "total_positive_cases\n",
        "\n",
        "average_positive_cases <- mean(positive_cases)\n",
        "average_positive_cases\n",
        "\n",
        "positive_cases_ratio <- positive_cases / total_positive_cases\n",
        "positive_cases_ratio\n",
        "\n",
        "positive_cases_ratio_to_tested <- positive_cases / tested_cases\n",
        "positive_cases_ratio_to_tested\n"
      ],
      "metadata": {
        "colab": {
          "base_uri": "https://localhost:8080/",
          "height": 191
        },
        "id": "sjnns6a7QHlf",
        "outputId": "e786fd09-67d3-454d-8c51-b067e154d798"
      },
      "execution_count": null,
      "outputs": [
        {
          "output_type": "display_data",
          "data": {
            "text/html": [
              "<style>\n",
              ".dl-inline {width: auto; margin:0; padding: 0}\n",
              ".dl-inline>dt, .dl-inline>dd {float: none; width: auto; display: inline-block}\n",
              ".dl-inline>dt::after {content: \":\\0020\"; padding-right: .5ex}\n",
              ".dl-inline>dt:not(:first-of-type) {padding-left: .5ex}\n",
              "</style><dl class=dl-inline><dt>United States</dt><dd>1877179</dd><dt>Russia</dt><dd>406368</dd><dt>Italy</dt><dd>251710</dd><dt>India</dt><dd>60959</dd><dt>Turkey</dt><dd>163941</dd><dt>Canada</dt><dd>90873</dd><dt>United Kingdom</dt><dd>166909</dd><dt>Australia</dt><dd>7200</dd><dt>Peru</dt><dd>59497</dd><dt>Poland</dt><dd>23987</dd></dl>\n"
            ],
            "text/markdown": "United States\n:   1877179Russia\n:   406368Italy\n:   251710India\n:   60959Turkey\n:   163941Canada\n:   90873United Kingdom\n:   166909Australia\n:   7200Peru\n:   59497Poland\n:   23987\n\n",
            "text/latex": "\\begin{description*}\n\\item[United States] 1877179\n\\item[Russia] 406368\n\\item[Italy] 251710\n\\item[India] 60959\n\\item[Turkey] 163941\n\\item[Canada] 90873\n\\item[United Kingdom] 166909\n\\item[Australia] 7200\n\\item[Peru] 59497\n\\item[Poland] 23987\n\\end{description*}\n",
            "text/plain": [
              " United States         Russia          Italy          India         Turkey \n",
              "       1877179         406368         251710          60959         163941 \n",
              "        Canada United Kingdom      Australia           Peru         Poland \n",
              "         90873         166909           7200          59497          23987 "
            ]
          },
          "metadata": {}
        },
        {
          "output_type": "display_data",
          "data": {
            "text/html": [
              "3108623"
            ],
            "text/markdown": "3108623",
            "text/latex": "3108623",
            "text/plain": [
              "[1] 3108623"
            ]
          },
          "metadata": {}
        },
        {
          "output_type": "display_data",
          "data": {
            "text/html": [
              "310862.3"
            ],
            "text/markdown": "310862.3",
            "text/latex": "310862.3",
            "text/plain": [
              "[1] 310862.3"
            ]
          },
          "metadata": {}
        },
        {
          "output_type": "display_data",
          "data": {
            "text/html": [
              "<style>\n",
              ".dl-inline {width: auto; margin:0; padding: 0}\n",
              ".dl-inline>dt, .dl-inline>dd {float: none; width: auto; display: inline-block}\n",
              ".dl-inline>dt::after {content: \":\\0020\"; padding-right: .5ex}\n",
              ".dl-inline>dt:not(:first-of-type) {padding-left: .5ex}\n",
              "</style><dl class=dl-inline><dt>United States</dt><dd>0.603861902842513</dd><dt>Russia</dt><dd>0.130722831298617</dd><dt>Italy</dt><dd>0.0809715427055645</dd><dt>India</dt><dd>0.0196096471009833</dd><dt>Turkey</dt><dd>0.0527374982427911</dd><dt>Canada</dt><dd>0.0292325573091366</dd><dt>United Kingdom</dt><dd>0.0536922618149579</dd><dt>Australia</dt><dd>0.00231613804568775</dd><dt>Peru</dt><dd>0.0191393424033728</dd><dt>Poland</dt><dd>0.00771627823637668</dd></dl>\n"
            ],
            "text/markdown": "United States\n:   0.603861902842513Russia\n:   0.130722831298617Italy\n:   0.0809715427055645India\n:   0.0196096471009833Turkey\n:   0.0527374982427911Canada\n:   0.0292325573091366United Kingdom\n:   0.0536922618149579Australia\n:   0.00231613804568775Peru\n:   0.0191393424033728Poland\n:   0.00771627823637668\n\n",
            "text/latex": "\\begin{description*}\n\\item[United States] 0.603861902842513\n\\item[Russia] 0.130722831298617\n\\item[Italy] 0.0809715427055645\n\\item[India] 0.0196096471009833\n\\item[Turkey] 0.0527374982427911\n\\item[Canada] 0.0292325573091366\n\\item[United Kingdom] 0.0536922618149579\n\\item[Australia] 0.00231613804568775\n\\item[Peru] 0.0191393424033728\n\\item[Poland] 0.00771627823637668\n\\end{description*}\n",
            "text/plain": [
              " United States         Russia          Italy          India         Turkey \n",
              "   0.603861903    0.130722831    0.080971543    0.019609647    0.052737498 \n",
              "        Canada United Kingdom      Australia           Peru         Poland \n",
              "   0.029232557    0.053692262    0.002316138    0.019139342    0.007716278 "
            ]
          },
          "metadata": {}
        },
        {
          "output_type": "display_data",
          "data": {
            "text/html": [
              "<style>\n",
              ".dl-inline {width: auto; margin:0; padding: 0}\n",
              ".dl-inline>dt, .dl-inline>dd {float: none; width: auto; display: inline-block}\n",
              ".dl-inline>dt::after {content: \":\\0020\"; padding-right: .5ex}\n",
              ".dl-inline>dt:not(:first-of-type) {padding-left: .5ex}\n",
              "</style><dl class=dl-inline><dt>United States</dt><dd>0.108618190695335</dd><dt>Russia</dt><dd>0.0385465515668074</dd><dt>Italy</dt><dd>0.0615233675629526</dd><dt>India</dt><dd>0.0165073001862247</dd><dt>Turkey</dt><dd>0.0807117200146515</dd><dt>Canada</dt><dd>0.054915490225583</dd><dt>United Kingdom</dt><dd>0.113260617016541</dd><dt>Australia</dt><dd>0.00574666773086439</dd><dt>Peru</dt><dd>0.0609107382344209</dd><dt>Poland</dt><dd>0.025840931811914</dd></dl>\n"
            ],
            "text/markdown": "United States\n:   0.108618190695335Russia\n:   0.0385465515668074Italy\n:   0.0615233675629526India\n:   0.0165073001862247Turkey\n:   0.0807117200146515Canada\n:   0.054915490225583United Kingdom\n:   0.113260617016541Australia\n:   0.00574666773086439Peru\n:   0.0609107382344209Poland\n:   0.025840931811914\n\n",
            "text/latex": "\\begin{description*}\n\\item[United States] 0.108618190695335\n\\item[Russia] 0.0385465515668074\n\\item[Italy] 0.0615233675629526\n\\item[India] 0.0165073001862247\n\\item[Turkey] 0.0807117200146515\n\\item[Canada] 0.054915490225583\n\\item[United Kingdom] 0.113260617016541\n\\item[Australia] 0.00574666773086439\n\\item[Peru] 0.0609107382344209\n\\item[Poland] 0.025840931811914\n\\end{description*}\n",
            "text/plain": [
              " United States         Russia          Italy          India         Turkey \n",
              "   0.108618191    0.038546552    0.061523368    0.016507300    0.080711720 \n",
              "        Canada United Kingdom      Australia           Peru         Poland \n",
              "   0.054915490    0.113260617    0.005746668    0.060910738    0.025840932 "
            ]
          },
          "metadata": {}
        }
      ]
    },
    {
      "cell_type": "code",
      "source": [
        "#creating a vector with the top three countries with the highest ratio of positive cases to tested cases\n",
        "top_3_positive_tested_countries <- c(\"United Kingdom\" = 0.11, \"United States\" = 0.1,\"Turkey\" = 0.08)\n"
      ],
      "metadata": {
        "id": "igkp4r3kQJ2k"
      },
      "execution_count": null,
      "outputs": []
    },
    {
      "cell_type": "markdown",
      "source": [
        "# Organizing Relevant Information"
      ],
      "metadata": {
        "id": "WGpkHF-8Qejv"
      }
    },
    {
      "cell_type": "code",
      "source": [
        "#creating vectors\n",
        "united_kingdom <- c(0.11, 1473672, 166909, 0, 0)\n",
        "united_states <- c(0.10, 17282363, 1877179, 0, 0)\n",
        "turkey <- c(0.08, 2031192, 163941, 2980960, 0)\n"
      ],
      "metadata": {
        "id": "N654vaRaQLd4"
      },
      "execution_count": null,
      "outputs": []
    },
    {
      "cell_type": "code",
      "source": [
        "#creating a matrix\n",
        "covid_matrix <- rbind(united_kingdom, united_states, turkey)\n"
      ],
      "metadata": {
        "id": "JOV-0DWaQhw_"
      },
      "execution_count": null,
      "outputs": []
    },
    {
      "cell_type": "code",
      "source": [
        "#rename the columns of the matrix\n",
        "names(covid_matrix) <- c(\"Ratio\", \"Tested\", \"Positive\", \"Active\", \"Hospitalized\")\n",
        "\n",
        "covid_matrix\n"
      ],
      "metadata": {
        "colab": {
          "base_uri": "https://localhost:8080/",
          "height": 128
        },
        "id": "YPyUbS9JQjXT",
        "outputId": "176551a5-69d5-401f-a729-4cba1fe74e4c"
      },
      "execution_count": null,
      "outputs": [
        {
          "output_type": "display_data",
          "data": {
            "text/html": [
              "<table class=\"dataframe\">\n",
              "<caption>A matrix: 3 × 5 of type dbl</caption>\n",
              "<tbody>\n",
              "\t<tr><th scope=row>united_kingdom</th><td>0.11</td><td> 1473672</td><td> 166909</td><td>      0</td><td>0</td></tr>\n",
              "\t<tr><th scope=row>united_states</th><td>0.10</td><td>17282363</td><td>1877179</td><td>      0</td><td>0</td></tr>\n",
              "\t<tr><th scope=row>turkey</th><td>0.08</td><td> 2031192</td><td> 163941</td><td>2980960</td><td>0</td></tr>\n",
              "</tbody>\n",
              "</table>\n"
            ],
            "text/markdown": "\nA matrix: 3 × 5 of type dbl\n\n| united_kingdom | 0.11 |  1473672 |  166909 |       0 | 0 |\n| united_states | 0.10 | 17282363 | 1877179 |       0 | 0 |\n| turkey | 0.08 |  2031192 |  163941 | 2980960 | 0 |\n\n",
            "text/latex": "A matrix: 3 × 5 of type dbl\n\\begin{tabular}{r|lllll}\n\tunited\\_kingdom & 0.11 &  1473672 &  166909 &       0 & 0\\\\\n\tunited\\_states & 0.10 & 17282363 & 1877179 &       0 & 0\\\\\n\tturkey & 0.08 &  2031192 &  163941 & 2980960 & 0\\\\\n\\end{tabular}\n",
            "text/plain": [
              "               [,1] [,2]     [,3]    [,4]    [,5]\n",
              "united_kingdom 0.11  1473672  166909       0 0   \n",
              "united_states  0.10 17282363 1877179       0 0   \n",
              "turkey         0.08  2031192  163941 2980960 0   "
            ]
          },
          "metadata": {}
        }
      ]
    },
    {
      "cell_type": "markdown",
      "source": [
        "# Summary"
      ],
      "metadata": {
        "id": "Jmbe5aZ7Qptp"
      }
    },
    {
      "cell_type": "code",
      "source": [
        "question <- \"Which countries have had the highest number of positive cases against the number of tests?\"\n",
        "\n"
      ],
      "metadata": {
        "id": "aRQ0A4JdQnVf"
      },
      "execution_count": null,
      "outputs": []
    },
    {
      "cell_type": "code",
      "source": [
        "answer <- c(\"Countries with the highest positive cases to tested cases ratio\" = top_3_positive_tested_countries)\n",
        "\n"
      ],
      "metadata": {
        "id": "dEansZqiQsTc"
      },
      "execution_count": null,
      "outputs": []
    },
    {
      "cell_type": "code",
      "source": [
        "#creating a list of the dataframes used\n",
        "dataset_list <- list(\n",
        "  original_data = covid_data,\n",
        "  filtered_data = filtered_data,\n",
        "  selected_columns = selected_columns,\n",
        "  top_10_countries = top_10_countries\n",
        ")\n"
      ],
      "metadata": {
        "id": "pHeHFCiCQv5H"
      },
      "execution_count": null,
      "outputs": []
    },
    {
      "cell_type": "code",
      "source": [
        "#creating a list of matrices used\n",
        "matrices_list <- list(covid_matrix)\n",
        "\n",
        "#creating a list of vectors used\n",
        "vector_list <- list(column_names, countries)\n",
        "\n",
        "#creating a data structure that contains the lists above\n",
        "data_structure_list <- list(\"dataframe\" = dataset_list, \"matrix\" = matrices_list, \"vector\" = vector_list)\n",
        "\n"
      ],
      "metadata": {
        "id": "6O2b7RhDQ1AJ"
      },
      "execution_count": null,
      "outputs": []
    },
    {
      "cell_type": "code",
      "source": [
        "covid_analysis_list <- list(question, answer, data_structure_list)\n",
        "covid_analysis_list[[2]]\n"
      ],
      "metadata": {
        "colab": {
          "base_uri": "https://localhost:8080/",
          "height": 52
        },
        "id": "3KsL7yiYQ3ny",
        "outputId": "d1a39e01-b8ab-44b1-f4d8-87e07b3880e0"
      },
      "execution_count": null,
      "outputs": [
        {
          "output_type": "display_data",
          "data": {
            "text/html": [
              "<style>\n",
              ".dl-inline {width: auto; margin:0; padding: 0}\n",
              ".dl-inline>dt, .dl-inline>dd {float: none; width: auto; display: inline-block}\n",
              ".dl-inline>dt::after {content: \":\\0020\"; padding-right: .5ex}\n",
              ".dl-inline>dt:not(:first-of-type) {padding-left: .5ex}\n",
              "</style><dl class=dl-inline><dt>Countries with the highest positive cases to tested cases ratio.United Kingdom</dt><dd>0.11</dd><dt>Countries with the highest positive cases to tested cases ratio.United States</dt><dd>0.1</dd><dt>Countries with the highest positive cases to tested cases ratio.Turkey</dt><dd>0.08</dd></dl>\n"
            ],
            "text/markdown": "Countries with the highest positive cases to tested cases ratio.United Kingdom\n:   0.11Countries with the highest positive cases to tested cases ratio.United States\n:   0.1Countries with the highest positive cases to tested cases ratio.Turkey\n:   0.08\n\n",
            "text/latex": "\\begin{description*}\n\\item[Countries with the highest positive cases to tested cases ratio.United Kingdom] 0.11\n\\item[Countries with the highest positive cases to tested cases ratio.United States] 0.1\n\\item[Countries with the highest positive cases to tested cases ratio.Turkey] 0.08\n\\end{description*}\n",
            "text/plain": [
              "Countries with the highest positive cases to tested cases ratio.United Kingdom \n",
              "                                                                          0.11 \n",
              " Countries with the highest positive cases to tested cases ratio.United States \n",
              "                                                                          0.10 \n",
              "        Countries with the highest positive cases to tested cases ratio.Turkey \n",
              "                                                                          0.08 "
            ]
          },
          "metadata": {}
        }
      ]
    },
    {
      "cell_type": "markdown",
      "source": [
        "# Conclusion"
      ],
      "metadata": {
        "id": "138Ugbv3Q78a"
      }
    },
    {
      "cell_type": "markdown",
      "source": [
        "From our analysis, it is evident that the United Kingdom, United States, and Turkey are the countries with the highest number of positive cases in relation to the number of tests conducted."
      ],
      "metadata": {
        "id": "_iFOEAFhRBpm"
      }
    }
  ],
  "metadata": {
    "colab": {
      "provenance": []
    },
    "kernelspec": {
      "display_name": "R",
      "name": "ir"
    },
    "language_info": {
      "name": "R"
    }
  },
  "nbformat": 4,
  "nbformat_minor": 0
}